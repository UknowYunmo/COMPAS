{
 "cells": [
  {
   "cell_type": "code",
   "execution_count": null,
   "metadata": {},
   "outputs": [],
   "source": [
    "# 가져다 쓸 모듈들\n",
    "import pandas as pd\n",
    "import matplotlib.pyplot as plt\n",
    "import seaborn as sns # 예쁜 matplotlib\n",
    "import folium # 지도 시각화\n",
    "import json # geojson 파일용\n",
    "import geopandas as gpd # geojson 파일용\n",
    "import matplotlib.font_manager as fm # 한글 폰트 사용\n",
    "import math # 제곱근\n",
    "import scipy # 상관 계수\n",
    "import statsmodels.api as sm # 다중회귀\n",
    "import statsmodels.formula.api as smf # 다중회귀\n",
    "from sklearn.preprocessing import StandardScaler # 표준화를 위해 필요\n",
    "from sklearn.model_selection import train_test_split # 학습용/테스트 데이터\n",
    "\n",
    "fm.get_fontconfig_fonts()\n",
    "font_location = \"malgun.ttf\"\n",
    "font_name = fm.FontProperties(fname=font_location).get_name()\n",
    "plt.rc('font', family=font_name)\n",
    "\n",
    "# pd.set_option('display.max_row', 30) # 더 많이 보고 싶을때"
   ]
  },
  {
   "cell_type": "code",
   "execution_count": null,
   "metadata": {},
   "outputs": [],
   "source": [
    "filename = \"3.대전광역시_신호등(보행등).geojson\"\n",
    "file = open(filename)\n",
    "df3 = gpd.read_file(file)\n",
    "plz=(df3.head(10))\n",
    "plz\n",
    "gc_plz=df3[df3['dong']=='판암동'].reset_index()\n",
    "len(gc_plz)\n",
    "gc_plz"
   ]
  },
  {
   "cell_type": "code",
   "execution_count": null,
   "metadata": {},
   "outputs": [],
   "source": [
    "converted_json = gc_plz.to_json()\n",
    "\n",
    "m = folium.Map(\n",
    "    location=[36.34156,127.39704],\n",
    "    zoom_start=11\n",
    ")\n",
    "\n",
    "folium.GeoJson(\n",
    "    converted_json,\n",
    ").add_to(m)\n",
    "\n",
    "m"
   ]
  },
  {
   "cell_type": "code",
   "execution_count": null,
   "metadata": {},
   "outputs": [],
   "source": [
    "plz"
   ]
  },
  {
   "cell_type": "code",
   "execution_count": null,
   "metadata": {},
   "outputs": [],
   "source": [
    "filename = \"2.대전광역시_교통사고격자(2017~2019).geojson\"\n",
    "file = open(filename)\n",
    "df2 = gpd.read_file(file)\n",
    "gdf=df2[df2['acci_cnt']>=30]\n",
    "gdf=gdf.reset_index()\n",
    "gdf.head(10)\n",
    "gdf2=gdf.copy()"
   ]
  },
  {
   "cell_type": "code",
   "execution_count": null,
   "metadata": {},
   "outputs": [],
   "source": [
    "print(df2['geometry'].iloc[[5636,12176,8948]])\n",
    "temp=df2['geometry'].iloc[[5636,12176,8948]]\n",
    "converted_json = temp.to_json()\n",
    "\n",
    "m = folium.Map(\n",
    "    location=[36.34156,127.39704],\n",
    "    zoom_start=11\n",
    ")\n",
    "\n",
    "folium.GeoJson(\n",
    "    converted_json,\n",
    ").add_to(m)\n",
    "\n",
    "m"
   ]
  },
  {
   "cell_type": "code",
   "execution_count": null,
   "metadata": {},
   "outputs": [],
   "source": [
    "for i in plz['geometry']:\n",
    "    for j in df2['geometry']:\n",
    "        if i.within(j)==True:\n",
    "            print(j)"
   ]
  },
  {
   "cell_type": "code",
   "execution_count": null,
   "metadata": {},
   "outputs": [],
   "source": [
    "gc=[]\n",
    "for i in range(len(gc_plz['geometry'])):\n",
    "    for j in range(len(df2['geometry'])):\n",
    "        if gc_plz['geometry'][i].within(df2['geometry'][j])==True:\n",
    "            print(j)\n",
    "            gc.append(j)\n",
    "print(df2['geometry'].iloc[gc])\n",
    "gc_2=df2['geometry'].iloc[gc]\n",
    "\n",
    "converted_json = gc_2.to_json()\n",
    "\n",
    "m = folium.Map(\n",
    "    location=[36.34156,127.39704],\n",
    "    zoom_start=11\n",
    ")\n",
    "\n",
    "folium.GeoJson(\n",
    "    converted_json,\n",
    ").add_to(m)\n",
    "\n",
    "m"
   ]
  },
  {
   "cell_type": "code",
   "execution_count": null,
   "metadata": {},
   "outputs": [],
   "source": [
    "plz['geometry'][2]"
   ]
  },
  {
   "cell_type": "code",
   "execution_count": null,
   "metadata": {},
   "outputs": [],
   "source": [
    "len(df2)"
   ]
  },
  {
   "cell_type": "code",
   "execution_count": null,
   "metadata": {},
   "outputs": [],
   "source": [
    "gc=[]\n",
    "for i in df2['geometry']:\n",
    "    for j in plz['geometry']:\n",
    "        if i.contains(j)==True:\n",
    "            gc.append(i)"
   ]
  },
  {
   "cell_type": "code",
   "execution_count": null,
   "metadata": {},
   "outputs": [],
   "source": [
    "df2.iloc[[10,20]]"
   ]
  },
  {
   "cell_type": "code",
   "execution_count": null,
   "metadata": {},
   "outputs": [],
   "source": [
    "for i in gdf2['geometry']:\n",
    "    print(i.area)"
   ]
  },
  {
   "cell_type": "code",
   "execution_count": null,
   "metadata": {},
   "outputs": [],
   "source": [
    "from pyproj import Proj, transform\n",
    "import shapely.geometry as geom\n",
    "import shapely.wkt\n",
    "\n",
    "inProj = Proj({'init': 'epsg:4326'})\n",
    "outProj = Proj({'init': 'epsg:4326'})\n",
    "\n",
    "for i in range(len(gdf.geometry)):\n",
    "    region = gdf.geometry[i]\n",
    "    pols = list(region)\n",
    "    for j in range(len(pols)) :\n",
    "        coords_obj = list(pols[j].exterior.coords)\n",
    "        empty_list = []            \n",
    "        for k in range(len(coords_obj)):\n",
    "            x,y = transform(inProj,outProj,coords_obj[k][0],coords_obj[k][1])\n",
    "            empty_list.append(geom.Point(x,y))\n",
    "        empty_list = geom.Polygon([p.x,p.y] for p in empty_list)\n",
    "        pols[j] = empty_list\n",
    "    result = geom.MultiPolygon(pols)\n",
    "    gdf2.geometry[i] = result"
   ]
  },
  {
   "cell_type": "code",
   "execution_count": null,
   "metadata": {},
   "outputs": [],
   "source": [
    "ga=df2.copy()\n",
    "df2"
   ]
  },
  {
   "cell_type": "code",
   "execution_count": null,
   "metadata": {},
   "outputs": [],
   "source": [
    "for i in range(len(gdf.geometry)) :\n",
    "    region = gdf.geometry[i]\n",
    "    if region.type == \"Polygon\" :\n",
    "        coords_obj = list(region.exterior.coords)\n",
    "        empty_list = []\n",
    "        for j in range(len(coords_obj)) :\n",
    "            x,y = transform(inProj,outProj,coords_obj[j][0],coords_obj[j][1])\n",
    "            empty_list.append(geom.Point(x,y))\n",
    "        result = geom.Polygon([[p.x,p.y] for p in empty_list])\n",
    "    elif region.type == \"MultiPolygon\" :\n",
    "        pols = list(region)\n",
    "        for j in range(len(pols)) :\n",
    "            coords_obj = list(pols[j].exterior.coords)\n",
    "            empty_list = []            \n",
    "            for k in range(len(coords_obj)):\n",
    "                x,y = transform(inProj,outProj,coords_obj[k][0],coords_obj[k][1])\n",
    "                empty_list.append(geom.Point(x,y))\n",
    "            empty_list = geom.Polygon([p.x,p.y] for p in empty_list)\n",
    "            print(empty_list)\n",
    "            pols[j] = empty_list\n",
    "        result = geom.MultiPolygon(pols)\n",
    "        #print(result)\n",
    "    ga.geometry[i] = result\n",
    "    #print(gdf2.geometry[i])\n",
    "print(\"Done\")\n",
    "ga.head(50)"
   ]
  },
  {
   "cell_type": "code",
   "execution_count": null,
   "metadata": {},
   "outputs": [],
   "source": [
    "import numpy as np\n",
    "a = np.stack([df2['geometry'].centroid.x, df2['geometry'].centroid.y], axis=1)#.reshape([1, -1, 2])\n",
    "a"
   ]
  }
 ],
 "metadata": {
  "kernelspec": {
   "display_name": "Python 3",
   "language": "python",
   "name": "python3"
  },
  "language_info": {
   "codemirror_mode": {
    "name": "ipython",
    "version": 3
   },
   "file_extension": ".py",
   "mimetype": "text/x-python",
   "name": "python",
   "nbconvert_exporter": "python",
   "pygments_lexer": "ipython3",
   "version": "3.8.5"
  }
 },
 "nbformat": 4,
 "nbformat_minor": 4
}
