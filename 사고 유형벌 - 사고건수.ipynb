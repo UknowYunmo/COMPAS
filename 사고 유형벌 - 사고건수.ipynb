{
 "cells": [
  {
   "cell_type": "code",
   "execution_count": null,
   "metadata": {},
   "outputs": [],
   "source": [
    "# 가져다 쓸 모듈들\n",
    "import pandas as pd\n",
    "import matplotlib.pyplot as plt\n",
    "import seaborn as sns # 예쁜 matplotlib\n",
    "import folium # 지도 시각화\n",
    "import json # geojson 파일용\n",
    "import geopandas as gpd # geojson 파일용\n",
    "import matplotlib.font_manager as fm # 한글 폰트 사용\n",
    "import math # 제곱근\n",
    "import scipy # 상관 계수\n",
    "import statsmodels.api as sm # 다중회귀\n",
    "import statsmodels.formula.api as smf # 다중회귀\n",
    "from sklearn.preprocessing import StandardScaler # 표준화를 위해 필요\n",
    "from sklearn.model_selection import train_test_split # 학습용/테스트 데이터\n",
    "\n",
    "fm.get_fontconfig_fonts()\n",
    "font_location = \"malgun.ttf\"\n",
    "font_name = fm.FontProperties(fname=font_location).get_name()\n",
    "plt.rc('font', family=font_name)\n",
    "\n",
    "# pd.set_option('display.max_row', 30) # 더 많이 보고 싶을때"
   ]
  },
  {
   "cell_type": "code",
   "execution_count": null,
   "metadata": {},
   "outputs": [],
   "source": [
    "# 교통사고 csv 파일 로드\n",
    "df=pd.read_csv('1.대전광역시_교통사고내역(2017~2019).csv')\n",
    "print(len(df)) # 총 23562건의 교통사고가 있었음\n",
    "df.head() # 데이터 살펴보기 (꼭 마지막에 print 없이 해줘야 보기 예쁘게 출력되니 참고!)\n",
    "# print(df.head())"
   ]
  },
  {
   "cell_type": "code",
   "execution_count": null,
   "metadata": {},
   "outputs": [],
   "source": [
    "df1=df.copy()\n",
    "df1['세부사고유형']=df['사고유형'].str.split('-').str[1].str.replace(' ','')\n",
    "df1['사고유형']=df['사고유형'].str.split('-').str[0].str.replace(' ','')\n",
    "df1"
   ]
  },
  {
   "cell_type": "code",
   "execution_count": null,
   "metadata": {},
   "outputs": [],
   "source": [
    "acc=df1.groupby(by='사고유형')['사고일'].count().reset_index()\n",
    "acc"
   ]
  },
  {
   "cell_type": "code",
   "execution_count": null,
   "metadata": {},
   "outputs": [],
   "source": [
    "sns.barplot(data=acc,x=\"사고유형\", y=\"사고일\")\n",
    "plt.ylabel('사고수')\n",
    "#plt.xticks(rotation = 45)\n",
    "plt.show()"
   ]
  },
  {
   "cell_type": "code",
   "execution_count": null,
   "metadata": {},
   "outputs": [],
   "source": [
    "plt.pie(x=acc['사고일'], labels=acc['사고유형'], autopct='%.1f%%')\n",
    "plt.show()"
   ]
  },
  {
   "cell_type": "code",
   "execution_count": null,
   "metadata": {},
   "outputs": [],
   "source": [
    "sub_acc=df1.groupby(by=['사고유형','세부사고유형'])['사고일'].count().reset_index()\n",
    "sub_acc"
   ]
  },
  {
   "cell_type": "code",
   "execution_count": null,
   "metadata": {},
   "outputs": [],
   "source": [
    "sns.barplot(data=sub_acc,\n",
    "            x=\"사고유형\",\n",
    "            y=\"사고일\",\n",
    "            hue=\"세부사고유형\")\n",
    "plt.xticks(rotation = 45)\n",
    "plt.show() # 좋은 시각화가 안 나옴"
   ]
  },
  {
   "cell_type": "code",
   "execution_count": null,
   "metadata": {},
   "outputs": [],
   "source": [
    "sns.barplot(data=sub_acc[sub_acc['사고유형']=='차대사람'].sort_values(by='사고일',ascending=False),x=\"세부사고유형\", y=\"사고일\")\n",
    "plt.ylabel('사고수')\n",
    "#plt.xticks(rotation = 45)\n",
    "plt.show()"
   ]
  },
  {
   "cell_type": "code",
   "execution_count": null,
   "metadata": {},
   "outputs": [],
   "source": [
    "sns.barplot(data=sub_acc[sub_acc['사고유형']=='차대차'].sort_values(by='사고일',ascending=False),x=\"세부사고유형\", y=\"사고일\")\n",
    "plt.ylabel('사고수')\n",
    "#plt.xticks(rotation = 45)\n",
    "plt.show()"
   ]
  },
  {
   "cell_type": "code",
   "execution_count": null,
   "metadata": {},
   "outputs": [],
   "source": [
    "sns.barplot(data=sub_acc[sub_acc['사고유형']=='차량단독'].sort_values(by='사고일',ascending=False),x=\"세부사고유형\", y=\"사고일\")\n",
    "plt.ylabel('사고수')\n",
    "#plt.xticks(rotation = 45)\n",
    "plt.show()"
   ]
  },
  {
   "cell_type": "code",
   "execution_count": null,
   "metadata": {},
   "outputs": [],
   "source": [
    "car=df.groupby(by='가해운전자 차종')['사고일'].count().reset_index().sort_values(by='사고일',ascending=False)\n",
    "car"
   ]
  },
  {
   "cell_type": "code",
   "execution_count": null,
   "metadata": {},
   "outputs": [],
   "source": [
    "sns.barplot(data=car,x=\"가해운전자 차종\", y=\"사고일\")\n",
    "plt.ylabel('사고수')\n",
    "plt.xticks(rotation = 45)\n",
    "plt.show() # 대다수의 사고가 승용차니 승용차 사고를 줄이는데에 초점을 두자"
   ]
  }
 ],
 "metadata": {
  "kernelspec": {
   "display_name": "Python 3",
   "language": "python",
   "name": "python3"
  },
  "language_info": {
   "codemirror_mode": {
    "name": "ipython",
    "version": 3
   },
   "file_extension": ".py",
   "mimetype": "text/x-python",
   "name": "python",
   "nbconvert_exporter": "python",
   "pygments_lexer": "ipython3",
   "version": "3.8.5"
  }
 },
 "nbformat": 4,
 "nbformat_minor": 4
}
