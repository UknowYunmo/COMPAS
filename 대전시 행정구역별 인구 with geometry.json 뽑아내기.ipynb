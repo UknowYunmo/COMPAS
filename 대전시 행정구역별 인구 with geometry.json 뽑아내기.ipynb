{
 "cells": [
  {
   "cell_type": "markdown",
   "id": "together-cabinet",
   "metadata": {},
   "source": [
    "# 1. 필요 모듈 불러오기"
   ]
  },
  {
   "cell_type": "code",
   "execution_count": 1,
   "id": "controlling-transport",
   "metadata": {},
   "outputs": [
    {
     "data": {
      "text/plain": [
       "'/opt/app-root/src/승순/Full table'"
      ]
     },
     "execution_count": 1,
     "metadata": {},
     "output_type": "execute_result"
    }
   ],
   "source": [
    "import warnings\n",
    "warnings.simplefilter(\"ignore\")\n",
    "\n",
    "import numpy as np\n",
    "import pandas as pd\n",
    "import folium\n",
    "import branca\n",
    "import branca.colormap as cm\n",
    "from folium import plugins\n",
    "from folium.plugins import HeatMap\n",
    "import geopandas as gpd\n",
    "import seaborn as sns\n",
    "import random\n",
    "import os\n",
    "\n",
    "pd.set_option('display.max_columns', None)\n",
    "\n",
    "a = os.getcwd()\n",
    "os.chdir(a)\n",
    "a"
   ]
  },
  {
   "cell_type": "markdown",
   "id": "divided-sierra",
   "metadata": {},
   "source": [
    "# 2. 필요 데이터 로드"
   ]
  },
  {
   "cell_type": "markdown",
   "id": "defined-sacrifice",
   "metadata": {},
   "source": [
    "동별 인구데이터 불러오기"
   ]
  },
  {
   "cell_type": "code",
   "execution_count": 2,
   "id": "resistant-karaoke",
   "metadata": {},
   "outputs": [
    {
     "data": {
      "text/html": [
       "<div>\n",
       "<style scoped>\n",
       "    .dataframe tbody tr th:only-of-type {\n",
       "        vertical-align: middle;\n",
       "    }\n",
       "\n",
       "    .dataframe tbody tr th {\n",
       "        vertical-align: top;\n",
       "    }\n",
       "\n",
       "    .dataframe thead th {\n",
       "        text-align: right;\n",
       "    }\n",
       "</style>\n",
       "<table border=\"1\" class=\"dataframe\">\n",
       "  <thead>\n",
       "    <tr style=\"text-align: right;\">\n",
       "      <th></th>\n",
       "      <th>Unnamed: 0</th>\n",
       "      <th>구</th>\n",
       "      <th>동</th>\n",
       "      <th>총인구수</th>\n",
       "      <th>청소년</th>\n",
       "      <th>생산가능 인구</th>\n",
       "      <th>고령인구</th>\n",
       "    </tr>\n",
       "  </thead>\n",
       "  <tbody>\n",
       "    <tr>\n",
       "      <th>0</th>\n",
       "      <td>0</td>\n",
       "      <td>대덕구</td>\n",
       "      <td>대화동</td>\n",
       "      <td>7877.0</td>\n",
       "      <td>1491.0</td>\n",
       "      <td>5776.0</td>\n",
       "      <td>1444.0</td>\n",
       "    </tr>\n",
       "    <tr>\n",
       "      <th>1</th>\n",
       "      <td>1</td>\n",
       "      <td>대덕구</td>\n",
       "      <td>덕암동</td>\n",
       "      <td>14715.0</td>\n",
       "      <td>3707.0</td>\n",
       "      <td>10985.0</td>\n",
       "      <td>2001.0</td>\n",
       "    </tr>\n",
       "    <tr>\n",
       "      <th>2</th>\n",
       "      <td>2</td>\n",
       "      <td>대덕구</td>\n",
       "      <td>목상동</td>\n",
       "      <td>7005.0</td>\n",
       "      <td>1871.0</td>\n",
       "      <td>5396.0</td>\n",
       "      <td>652.0</td>\n",
       "    </tr>\n",
       "    <tr>\n",
       "      <th>3</th>\n",
       "      <td>3</td>\n",
       "      <td>대덕구</td>\n",
       "      <td>법1동</td>\n",
       "      <td>10362.0</td>\n",
       "      <td>2384.0</td>\n",
       "      <td>7403.0</td>\n",
       "      <td>1953.0</td>\n",
       "    </tr>\n",
       "    <tr>\n",
       "      <th>4</th>\n",
       "      <td>4</td>\n",
       "      <td>대덕구</td>\n",
       "      <td>법2동</td>\n",
       "      <td>17584.0</td>\n",
       "      <td>4612.0</td>\n",
       "      <td>13224.0</td>\n",
       "      <td>2385.0</td>\n",
       "    </tr>\n",
       "  </tbody>\n",
       "</table>\n",
       "</div>"
      ],
      "text/plain": [
       "   Unnamed: 0    구    동     총인구수     청소년  생산가능 인구    고령인구\n",
       "0           0  대덕구  대화동   7877.0  1491.0   5776.0  1444.0\n",
       "1           1  대덕구  덕암동  14715.0  3707.0  10985.0  2001.0\n",
       "2           2  대덕구  목상동   7005.0  1871.0   5396.0   652.0\n",
       "3           3  대덕구  법1동  10362.0  2384.0   7403.0  1953.0\n",
       "4           4  대덕구  법2동  17584.0  4612.0  13224.0  2385.0"
      ]
     },
     "execution_count": 2,
     "metadata": {},
     "output_type": "execute_result"
    }
   ],
   "source": [
    "data1 = pd.read_csv('대전시 행정동별 인구통계(2018).csv')\n",
    "data1.head()"
   ]
  },
  {
   "cell_type": "markdown",
   "id": "concerned-decline",
   "metadata": {},
   "source": [
    "동별 격자 데이터 불러오기"
   ]
  },
  {
   "cell_type": "code",
   "execution_count": 3,
   "id": "arranged-arbor",
   "metadata": {
    "scrolled": false
   },
   "outputs": [
    {
     "data": {
      "text/html": [
       "<div>\n",
       "<style scoped>\n",
       "    .dataframe tbody tr th:only-of-type {\n",
       "        vertical-align: middle;\n",
       "    }\n",
       "\n",
       "    .dataframe tbody tr th {\n",
       "        vertical-align: top;\n",
       "    }\n",
       "\n",
       "    .dataframe thead th {\n",
       "        text-align: right;\n",
       "    }\n",
       "</style>\n",
       "<table border=\"1\" class=\"dataframe\">\n",
       "  <thead>\n",
       "    <tr style=\"text-align: right;\">\n",
       "      <th></th>\n",
       "      <th>gid</th>\n",
       "      <th>cars_cnt</th>\n",
       "      <th>행정동</th>\n",
       "      <th>geometry</th>\n",
       "    </tr>\n",
       "  </thead>\n",
       "  <tbody>\n",
       "    <tr>\n",
       "      <th>0</th>\n",
       "      <td>다마846996</td>\n",
       "      <td>0</td>\n",
       "      <td>기성동</td>\n",
       "      <td>MULTIPOLYGON (((127.32871 36.19342, 127.32871 ...</td>\n",
       "    </tr>\n",
       "    <tr>\n",
       "      <th>1</th>\n",
       "      <td>다마847995</td>\n",
       "      <td>0</td>\n",
       "      <td>기성동</td>\n",
       "      <td>MULTIPOLYGON (((127.32983 36.19252, 127.32982 ...</td>\n",
       "    </tr>\n",
       "    <tr>\n",
       "      <th>2</th>\n",
       "      <td>다마847996</td>\n",
       "      <td>0</td>\n",
       "      <td>벌곡면</td>\n",
       "      <td>MULTIPOLYGON (((127.32982 36.19342, 127.32982 ...</td>\n",
       "    </tr>\n",
       "    <tr>\n",
       "      <th>3</th>\n",
       "      <td>다마847997</td>\n",
       "      <td>0</td>\n",
       "      <td>벌곡면</td>\n",
       "      <td>MULTIPOLYGON (((127.32982 36.19432, 127.32982 ...</td>\n",
       "    </tr>\n",
       "    <tr>\n",
       "      <th>4</th>\n",
       "      <td>다마847998</td>\n",
       "      <td>0</td>\n",
       "      <td>벌곡면</td>\n",
       "      <td>MULTIPOLYGON (((127.32982 36.19522, 127.32982 ...</td>\n",
       "    </tr>\n",
       "    <tr>\n",
       "      <th>5</th>\n",
       "      <td>다마848985</td>\n",
       "      <td>0</td>\n",
       "      <td>진산면</td>\n",
       "      <td>MULTIPOLYGON (((127.33096 36.18350, 127.33096 ...</td>\n",
       "    </tr>\n",
       "    <tr>\n",
       "      <th>6</th>\n",
       "      <td>다마848986</td>\n",
       "      <td>0</td>\n",
       "      <td>벌곡면</td>\n",
       "      <td>MULTIPOLYGON (((127.33096 36.18440, 127.33095 ...</td>\n",
       "    </tr>\n",
       "    <tr>\n",
       "      <th>7</th>\n",
       "      <td>다마848987</td>\n",
       "      <td>0</td>\n",
       "      <td>벌곡면</td>\n",
       "      <td>MULTIPOLYGON (((127.33095 36.18530, 127.33095 ...</td>\n",
       "    </tr>\n",
       "    <tr>\n",
       "      <th>8</th>\n",
       "      <td>다마848988</td>\n",
       "      <td>0</td>\n",
       "      <td>벌곡면</td>\n",
       "      <td>MULTIPOLYGON (((127.33095 36.18621, 127.33095 ...</td>\n",
       "    </tr>\n",
       "    <tr>\n",
       "      <th>9</th>\n",
       "      <td>다마848989</td>\n",
       "      <td>0</td>\n",
       "      <td>벌곡면</td>\n",
       "      <td>MULTIPOLYGON (((127.33095 36.18711, 127.33095 ...</td>\n",
       "    </tr>\n",
       "  </tbody>\n",
       "</table>\n",
       "</div>"
      ],
      "text/plain": [
       "        gid  cars_cnt  행정동                                           geometry\n",
       "0  다마846996         0  기성동  MULTIPOLYGON (((127.32871 36.19342, 127.32871 ...\n",
       "1  다마847995         0  기성동  MULTIPOLYGON (((127.32983 36.19252, 127.32982 ...\n",
       "2  다마847996         0  벌곡면  MULTIPOLYGON (((127.32982 36.19342, 127.32982 ...\n",
       "3  다마847997         0  벌곡면  MULTIPOLYGON (((127.32982 36.19432, 127.32982 ...\n",
       "4  다마847998         0  벌곡면  MULTIPOLYGON (((127.32982 36.19522, 127.32982 ...\n",
       "5  다마848985         0  진산면  MULTIPOLYGON (((127.33096 36.18350, 127.33096 ...\n",
       "6  다마848986         0  벌곡면  MULTIPOLYGON (((127.33096 36.18440, 127.33095 ...\n",
       "7  다마848987         0  벌곡면  MULTIPOLYGON (((127.33095 36.18530, 127.33095 ...\n",
       "8  다마848988         0  벌곡면  MULTIPOLYGON (((127.33095 36.18621, 127.33095 ...\n",
       "9  다마848989         0  벌곡면  MULTIPOLYGON (((127.33095 36.18711, 127.33095 ..."
      ]
     },
     "execution_count": 3,
     "metadata": {},
     "output_type": "execute_result"
    }
   ],
   "source": [
    "filename = \"행정동_격자.json\"\n",
    "file = open(filename)\n",
    "data2 = gpd.read_file(file)\n",
    "data2.head(10)"
   ]
  },
  {
   "cell_type": "markdown",
   "id": "liked-gregory",
   "metadata": {},
   "source": [
    "행정동 데이터의 경우 '면' 데이터도 있어서 개수에 차이가 발생"
   ]
  },
  {
   "cell_type": "code",
   "execution_count": 4,
   "id": "alien-glossary",
   "metadata": {},
   "outputs": [
    {
     "name": "stdout",
     "output_type": "stream",
     "text": [
      "79\n",
      "90\n"
     ]
    }
   ],
   "source": [
    "print ( len(data1['동'].unique() ) )\n",
    "print ( len(data2['행정동'].unique() ) )"
   ]
  },
  {
   "cell_type": "markdown",
   "id": "liked-substance",
   "metadata": {},
   "source": [
    "행정동 컬럼에서 면이 있는 행 삭제"
   ]
  },
  {
   "cell_type": "code",
   "execution_count": 5,
   "id": "cheap-tonight",
   "metadata": {},
   "outputs": [
    {
     "data": {
      "text/html": [
       "<div>\n",
       "<style scoped>\n",
       "    .dataframe tbody tr th:only-of-type {\n",
       "        vertical-align: middle;\n",
       "    }\n",
       "\n",
       "    .dataframe tbody tr th {\n",
       "        vertical-align: top;\n",
       "    }\n",
       "\n",
       "    .dataframe thead th {\n",
       "        text-align: right;\n",
       "    }\n",
       "</style>\n",
       "<table border=\"1\" class=\"dataframe\">\n",
       "  <thead>\n",
       "    <tr style=\"text-align: right;\">\n",
       "      <th></th>\n",
       "      <th>gid</th>\n",
       "      <th>cars_cnt</th>\n",
       "      <th>행정동</th>\n",
       "      <th>geometry</th>\n",
       "    </tr>\n",
       "  </thead>\n",
       "  <tbody>\n",
       "    <tr>\n",
       "      <th>0</th>\n",
       "      <td>다마846996</td>\n",
       "      <td>0</td>\n",
       "      <td>기성동</td>\n",
       "      <td>MULTIPOLYGON (((127.32871 36.19342, 127.32871 ...</td>\n",
       "    </tr>\n",
       "    <tr>\n",
       "      <th>1</th>\n",
       "      <td>다마847995</td>\n",
       "      <td>0</td>\n",
       "      <td>기성동</td>\n",
       "      <td>MULTIPOLYGON (((127.32983 36.19252, 127.32982 ...</td>\n",
       "    </tr>\n",
       "    <tr>\n",
       "      <th>16</th>\n",
       "      <td>다마848996</td>\n",
       "      <td>0</td>\n",
       "      <td>기성동</td>\n",
       "      <td>MULTIPOLYGON (((127.33094 36.19342, 127.33093 ...</td>\n",
       "    </tr>\n",
       "    <tr>\n",
       "      <th>17</th>\n",
       "      <td>다마848997</td>\n",
       "      <td>0</td>\n",
       "      <td>기성동</td>\n",
       "      <td>MULTIPOLYGON (((127.33093 36.19432, 127.33093 ...</td>\n",
       "    </tr>\n",
       "    <tr>\n",
       "      <th>18</th>\n",
       "      <td>다마848998</td>\n",
       "      <td>0</td>\n",
       "      <td>기성동</td>\n",
       "      <td>MULTIPOLYGON (((127.33093 36.19522, 127.33093 ...</td>\n",
       "    </tr>\n",
       "  </tbody>\n",
       "</table>\n",
       "</div>"
      ],
      "text/plain": [
       "         gid  cars_cnt  행정동                                           geometry\n",
       "0   다마846996         0  기성동  MULTIPOLYGON (((127.32871 36.19342, 127.32871 ...\n",
       "1   다마847995         0  기성동  MULTIPOLYGON (((127.32983 36.19252, 127.32982 ...\n",
       "16  다마848996         0  기성동  MULTIPOLYGON (((127.33094 36.19342, 127.33093 ...\n",
       "17  다마848997         0  기성동  MULTIPOLYGON (((127.33093 36.19432, 127.33093 ...\n",
       "18  다마848998         0  기성동  MULTIPOLYGON (((127.33093 36.19522, 127.33093 ..."
      ]
     },
     "execution_count": 5,
     "metadata": {},
     "output_type": "execute_result"
    }
   ],
   "source": [
    "a = data2[~data2.행정동.str.contains(\"면\")] #\n",
    "#len(a['행정동'].unique())\n",
    "a.head()"
   ]
  },
  {
   "cell_type": "markdown",
   "id": "frequent-physiology",
   "metadata": {},
   "source": [
    "병합을 하기 위해 '행정동'을 '동'으로 컬럼명 변경"
   ]
  },
  {
   "cell_type": "code",
   "execution_count": 6,
   "id": "valuable-thickness",
   "metadata": {
    "scrolled": true
   },
   "outputs": [
    {
     "data": {
      "text/html": [
       "<div>\n",
       "<style scoped>\n",
       "    .dataframe tbody tr th:only-of-type {\n",
       "        vertical-align: middle;\n",
       "    }\n",
       "\n",
       "    .dataframe tbody tr th {\n",
       "        vertical-align: top;\n",
       "    }\n",
       "\n",
       "    .dataframe thead th {\n",
       "        text-align: right;\n",
       "    }\n",
       "</style>\n",
       "<table border=\"1\" class=\"dataframe\">\n",
       "  <thead>\n",
       "    <tr style=\"text-align: right;\">\n",
       "      <th></th>\n",
       "      <th>gid</th>\n",
       "      <th>cars_cnt</th>\n",
       "      <th>동</th>\n",
       "      <th>geometry</th>\n",
       "    </tr>\n",
       "  </thead>\n",
       "  <tbody>\n",
       "    <tr>\n",
       "      <th>0</th>\n",
       "      <td>다마846996</td>\n",
       "      <td>0</td>\n",
       "      <td>기성동</td>\n",
       "      <td>MULTIPOLYGON (((127.32871 36.19342, 127.32871 ...</td>\n",
       "    </tr>\n",
       "    <tr>\n",
       "      <th>1</th>\n",
       "      <td>다마847995</td>\n",
       "      <td>0</td>\n",
       "      <td>기성동</td>\n",
       "      <td>MULTIPOLYGON (((127.32983 36.19252, 127.32982 ...</td>\n",
       "    </tr>\n",
       "    <tr>\n",
       "      <th>16</th>\n",
       "      <td>다마848996</td>\n",
       "      <td>0</td>\n",
       "      <td>기성동</td>\n",
       "      <td>MULTIPOLYGON (((127.33094 36.19342, 127.33093 ...</td>\n",
       "    </tr>\n",
       "    <tr>\n",
       "      <th>17</th>\n",
       "      <td>다마848997</td>\n",
       "      <td>0</td>\n",
       "      <td>기성동</td>\n",
       "      <td>MULTIPOLYGON (((127.33093 36.19432, 127.33093 ...</td>\n",
       "    </tr>\n",
       "    <tr>\n",
       "      <th>18</th>\n",
       "      <td>다마848998</td>\n",
       "      <td>0</td>\n",
       "      <td>기성동</td>\n",
       "      <td>MULTIPOLYGON (((127.33093 36.19522, 127.33093 ...</td>\n",
       "    </tr>\n",
       "  </tbody>\n",
       "</table>\n",
       "</div>"
      ],
      "text/plain": [
       "         gid  cars_cnt    동                                           geometry\n",
       "0   다마846996         0  기성동  MULTIPOLYGON (((127.32871 36.19342, 127.32871 ...\n",
       "1   다마847995         0  기성동  MULTIPOLYGON (((127.32983 36.19252, 127.32982 ...\n",
       "16  다마848996         0  기성동  MULTIPOLYGON (((127.33094 36.19342, 127.33093 ...\n",
       "17  다마848997         0  기성동  MULTIPOLYGON (((127.33093 36.19432, 127.33093 ...\n",
       "18  다마848998         0  기성동  MULTIPOLYGON (((127.33093 36.19522, 127.33093 ..."
      ]
     },
     "execution_count": 6,
     "metadata": {},
     "output_type": "execute_result"
    }
   ],
   "source": [
    "a.rename(columns = {'행정동':'동'}, inplace=True)\n",
    "a.head()"
   ]
  },
  {
   "cell_type": "markdown",
   "id": "challenging-builder",
   "metadata": {},
   "source": [
    "편의를 위해 컬럼순서 변경"
   ]
  },
  {
   "cell_type": "code",
   "execution_count": 7,
   "id": "mighty-running",
   "metadata": {
    "scrolled": true
   },
   "outputs": [
    {
     "data": {
      "text/html": [
       "<div>\n",
       "<style scoped>\n",
       "    .dataframe tbody tr th:only-of-type {\n",
       "        vertical-align: middle;\n",
       "    }\n",
       "\n",
       "    .dataframe tbody tr th {\n",
       "        vertical-align: top;\n",
       "    }\n",
       "\n",
       "    .dataframe thead th {\n",
       "        text-align: right;\n",
       "    }\n",
       "</style>\n",
       "<table border=\"1\" class=\"dataframe\">\n",
       "  <thead>\n",
       "    <tr style=\"text-align: right;\">\n",
       "      <th></th>\n",
       "      <th>구</th>\n",
       "      <th>동</th>\n",
       "      <th>총인구수</th>\n",
       "      <th>청소년</th>\n",
       "      <th>생산가능 인구</th>\n",
       "      <th>고령인구</th>\n",
       "      <th>cars_cnt</th>\n",
       "      <th>gid</th>\n",
       "      <th>geometry</th>\n",
       "    </tr>\n",
       "  </thead>\n",
       "  <tbody>\n",
       "    <tr>\n",
       "      <th>0</th>\n",
       "      <td>서구</td>\n",
       "      <td>기성동</td>\n",
       "      <td>3990.0</td>\n",
       "      <td>480.0</td>\n",
       "      <td>2385.0</td>\n",
       "      <td>1382.0</td>\n",
       "      <td>0</td>\n",
       "      <td>다마846996</td>\n",
       "      <td>MULTIPOLYGON (((127.32871 36.19342, 127.32871 ...</td>\n",
       "    </tr>\n",
       "    <tr>\n",
       "      <th>1</th>\n",
       "      <td>서구</td>\n",
       "      <td>기성동</td>\n",
       "      <td>3990.0</td>\n",
       "      <td>480.0</td>\n",
       "      <td>2385.0</td>\n",
       "      <td>1382.0</td>\n",
       "      <td>0</td>\n",
       "      <td>다마847995</td>\n",
       "      <td>MULTIPOLYGON (((127.32983 36.19252, 127.32982 ...</td>\n",
       "    </tr>\n",
       "    <tr>\n",
       "      <th>2</th>\n",
       "      <td>서구</td>\n",
       "      <td>기성동</td>\n",
       "      <td>3990.0</td>\n",
       "      <td>480.0</td>\n",
       "      <td>2385.0</td>\n",
       "      <td>1382.0</td>\n",
       "      <td>0</td>\n",
       "      <td>다마848996</td>\n",
       "      <td>MULTIPOLYGON (((127.33094 36.19342, 127.33093 ...</td>\n",
       "    </tr>\n",
       "    <tr>\n",
       "      <th>3</th>\n",
       "      <td>서구</td>\n",
       "      <td>기성동</td>\n",
       "      <td>3990.0</td>\n",
       "      <td>480.0</td>\n",
       "      <td>2385.0</td>\n",
       "      <td>1382.0</td>\n",
       "      <td>0</td>\n",
       "      <td>다마848997</td>\n",
       "      <td>MULTIPOLYGON (((127.33093 36.19432, 127.33093 ...</td>\n",
       "    </tr>\n",
       "    <tr>\n",
       "      <th>4</th>\n",
       "      <td>서구</td>\n",
       "      <td>기성동</td>\n",
       "      <td>3990.0</td>\n",
       "      <td>480.0</td>\n",
       "      <td>2385.0</td>\n",
       "      <td>1382.0</td>\n",
       "      <td>0</td>\n",
       "      <td>다마848998</td>\n",
       "      <td>MULTIPOLYGON (((127.33093 36.19522, 127.33093 ...</td>\n",
       "    </tr>\n",
       "  </tbody>\n",
       "</table>\n",
       "</div>"
      ],
      "text/plain": [
       "    구    동    총인구수    청소년  생산가능 인구    고령인구  cars_cnt       gid  \\\n",
       "0  서구  기성동  3990.0  480.0   2385.0  1382.0         0  다마846996   \n",
       "1  서구  기성동  3990.0  480.0   2385.0  1382.0         0  다마847995   \n",
       "2  서구  기성동  3990.0  480.0   2385.0  1382.0         0  다마848996   \n",
       "3  서구  기성동  3990.0  480.0   2385.0  1382.0         0  다마848997   \n",
       "4  서구  기성동  3990.0  480.0   2385.0  1382.0         0  다마848998   \n",
       "\n",
       "                                            geometry  \n",
       "0  MULTIPOLYGON (((127.32871 36.19342, 127.32871 ...  \n",
       "1  MULTIPOLYGON (((127.32983 36.19252, 127.32982 ...  \n",
       "2  MULTIPOLYGON (((127.33094 36.19342, 127.33093 ...  \n",
       "3  MULTIPOLYGON (((127.33093 36.19432, 127.33093 ...  \n",
       "4  MULTIPOLYGON (((127.33093 36.19522, 127.33093 ...  "
      ]
     },
     "execution_count": 7,
     "metadata": {},
     "output_type": "execute_result"
    }
   ],
   "source": [
    "#merged_df = pd.merge(df1, df2, left_on = \"employee\", right_on = \"name\")\n",
    "b = pd.merge(a, data1, on=[\"동\"])\n",
    "b = b[['구','동','총인구수','청소년','생산가능 인구','고령인구','cars_cnt','gid','geometry']]\n",
    "b.head()"
   ]
  },
  {
   "cell_type": "code",
   "execution_count": 8,
   "id": "waiting-roberts",
   "metadata": {},
   "outputs": [],
   "source": [
    "import folium\n",
    "\n",
    "converted_json = b.to_json()\n",
    "m = folium.Map(\n",
    "    location=[36.34156,127.39704],\n",
    "    zoom_start=11\n",
    ")\n",
    "\n",
    "folium.GeoJson(\n",
    "    converted_json,\n",
    ").add_to(m)\n",
    "\n",
    "m"
   ]
  },
  {
   "cell_type": "code",
   "execution_count": 9,
   "id": "persistent-hollywood",
   "metadata": {},
   "outputs": [],
   "source": [
    "b1=b"
   ]
  },
  {
   "cell_type": "code",
   "execution_count": 10,
   "id": "traditional-karma",
   "metadata": {},
   "outputs": [],
   "source": [
    "#b.to_file(\"대전시 행정구역별 인구 with geometry.json\", driver=\"GeoJSON\")"
   ]
  },
  {
   "cell_type": "markdown",
   "id": "circular-jewel",
   "metadata": {},
   "source": [
    "결과물 파일로 저장"
   ]
  },
  {
   "cell_type": "code",
   "execution_count": 11,
   "id": "constant-lebanon",
   "metadata": {},
   "outputs": [],
   "source": [
    "#b.to_csv('대전시 행정구역별 인구 with geometry.csv')"
   ]
  }
 ],
 "metadata": {
  "kernelspec": {
   "display_name": "Python 3",
   "language": "python",
   "name": "python3"
  },
  "language_info": {
   "codemirror_mode": {
    "name": "ipython",
    "version": 3
   },
   "file_extension": ".py",
   "mimetype": "text/x-python",
   "name": "python",
   "nbconvert_exporter": "python",
   "pygments_lexer": "ipython3",
   "version": "3.6.9"
  }
 },
 "nbformat": 4,
 "nbformat_minor": 5
}
