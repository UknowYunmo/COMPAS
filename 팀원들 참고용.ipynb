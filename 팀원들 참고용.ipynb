{
 "cells": [
  {
   "cell_type": "code",
   "execution_count": null,
   "metadata": {},
   "outputs": [],
   "source": [
    "# 공모전 데이터들을 주피터 환경에 다운로드하는 compas에서 제공하는 전용 함수\n",
    "# 개인 드라이브에는 저장이 안 되도록 막아놨으니 유의! 여기 환경에서만 작업할 수 있음\n",
    "from geoband.API import *\n",
    "GetCompasData('SBJ_2102_003', '1', '1.대전광역시_교통사고내역(2017~2019).csv')\n",
    "GetCompasData('SBJ_2102_003', '2', '2.대전광역시_교통사고격자(2017~2019).geojson')\n",
    "GetCompasData('SBJ_2102_003', '3', '3.대전광역시_신호등(보행등).geojson')\n",
    "GetCompasData('SBJ_2102_003', '4', '4.대전광역시_신호등(차량등).geojson')\n",
    "GetCompasData('SBJ_2102_003', '5', '5.대전광역시_안전지대.geojson')\n",
    "GetCompasData('SBJ_2102_003', '6', '6.대전광역시_횡단보도.geojson')\n",
    "GetCompasData('SBJ_2102_003', '7', '7.대전광역시_도로속도표시.geojson')\n",
    "GetCompasData('SBJ_2102_003', '8', '8.대전광역시_정차금지지대.geojson')\n",
    "GetCompasData('SBJ_2102_003', '9', '9.대전광역시_교통안전표지.geojson')\n",
    "GetCompasData('SBJ_2102_003', '10', '10.대전광역시_교통CCTV.geojson')\n",
    "GetCompasData('SBJ_2102_003', '11', '11.대전광역시_동별_인구현황(2017~2019).csv')\n",
    "GetCompasData('SBJ_2102_003', '12', '12.대전광역시_인구정보(총인구).geojson')\n",
    "GetCompasData('SBJ_2102_003', '13', '13.대전광역시_인구정보(고령).geojson')\n",
    "GetCompasData('SBJ_2102_003', '14', '14.대전광역시_인구정보(생산가능).geojson')\n",
    "GetCompasData('SBJ_2102_003', '15', '15.대전광역시_인구정보(유소년).geojson')\n",
    "GetCompasData('SBJ_2102_003', '16', '16.대전광역시_기상데이터(2017~2019).csv')\n",
    "GetCompasData('SBJ_2102_003', '17', '17.대전광역시_교통링크(2018).geojson')\n",
    "GetCompasData('SBJ_2102_003', '18', '18.대전광역시_교통노드(2018).geojson')\n",
    "GetCompasData('SBJ_2102_003', '19', '19.대전광역시_상세도로망(2018).geojson')\n",
    "GetCompasData('SBJ_2102_003', '20', '20.대전광역시_평일_일별_시간대별_추정교통량(2018).csv')\n",
    "GetCompasData('SBJ_2102_003', '21', '21.대전광역시_평일_일별_혼잡빈도강도(2018).csv')\n",
    "GetCompasData('SBJ_2102_003', '22', '22.대전광역시_평일_일별_혼잡시간강도(2018).csv')\n",
    "GetCompasData('SBJ_2102_003', '23', '23.대전광역시_도로명주소(건물).geojson')\n",
    "GetCompasData('SBJ_2102_003', '24', '24.대전광역시_건물연면적_격자.geojson')\n",
    "GetCompasData('SBJ_2102_003', '25', '25.대전광역시_법정경계(시군구).geojson')\n",
    "GetCompasData('SBJ_2102_003', '26', '26.대전광역시_법정경계(읍면동).geojson')\n",
    "GetCompasData('SBJ_2102_003', '27', '27.대전광역시_행정경계(읍면동).geojson')\n",
    "GetCompasData('SBJ_2102_003', '28', '28.대전광역시_연속지적도.geojson')\n",
    "GetCompasData('SBJ_2102_003', '29', '29.코드정의서.xlsx')\n",
    "GetCompasData('SBJ_2102_003', '30', '30.대전광역시_차량등록현황_격자.geojson')\n",
    "GetCompasData('SBJ_2102_003', '31', '31.대전시_중앙분리대.geojson')"
   ]
  },
  {
   "cell_type": "code",
   "execution_count": null,
   "metadata": {},
   "outputs": [],
   "source": [
    "# 가져다 쓸 모듈들\n",
    "import pandas as pd\n",
    "import matplotlib.pyplot as plt\n",
    "import seaborn as sns # 예쁜 matplotlib\n",
    "import folium # 지도 시각화\n",
    "import json # geojson 파일용\n",
    "import geopandas as gpd # geojson 파일용\n",
    "import matplotlib.font_manager as fm # 한글 폰트 사용\n",
    "\n",
    "fm.get_fontconfig_fonts()\n",
    "font_location = \"malgun.ttf\"\n",
    "font_name = fm.FontProperties(fname=font_location).get_name()\n",
    "plt.rc('font', family=font_name)"
   ]
  },
  {
   "cell_type": "code",
   "execution_count": null,
   "metadata": {},
   "outputs": [],
   "source": [
    "# 교통사고 csv 파일 로드\n",
    "df=pd.read_csv('1.대전광역시_교통사고내역(2017~2019).csv')\n",
    "print(len(df)) # 총 23562건의 교통사고가 있었음\n",
    "df.head() # 데이터 살펴보기 (꼭 마지막에 print 없이 해줘야 보기 예쁘게 출력되니 참고!)\n",
    "# print(df.head())"
   ]
  },
  {
   "cell_type": "code",
   "execution_count": null,
   "metadata": {},
   "outputs": [],
   "source": [
    "# 사고 년도, 월, 일 컬럼 생성\n",
    "gdf=df\n",
    "year=[]\n",
    "month=[]\n",
    "day=[]\n",
    "for i in df['사고일'][:].to_numpy() :\n",
    "    year.append(i[:4])\n",
    "    month.append(i[5:7])\n",
    "    day.append(i[8:])\n",
    "print(len(year))\n",
    "gdf['사고 년도']=year\n",
    "gdf['사고 월']=month\n",
    "gdf['사고 일']=day\n",
    "gdf"
   ]
  },
  {
   "cell_type": "code",
   "execution_count": null,
   "metadata": {},
   "outputs": [],
   "source": [
    "gdf.info() # 결측치 확인 (변환 잘 됐음)"
   ]
  },
  {
   "cell_type": "code",
   "execution_count": null,
   "metadata": {},
   "outputs": [],
   "source": [
    "df.describe() # 연속형 변수는 요약 정보를 확인할 수 있음"
   ]
  },
  {
   "cell_type": "code",
   "execution_count": null,
   "metadata": {},
   "outputs": [],
   "source": [
    "# iloc 함수를 쓰면 쉽게 컬럼을 선택할 수 있다\n",
    "# iloc [행 선택 , 열 선택]\n",
    "x=df.iloc[ : , 3 ]# -> 행 전체, 3번 열(법규위반) 선택\n",
    "print(x)\n",
    "print(type(x))\n",
    "print()\n",
    "print()\n",
    "x=df.iloc[1:3 , 2:4] # -> 1~2 행, 2~3 열 선택 [0부터 시작함 주의] \n",
    "print(x)\n",
    "print(type(x))\n",
    "print()\n",
    "print()\n",
    "x=df.iloc[1:3 , 2:4].to_numpy() # -> numpy로 변환\n",
    "print(x)\n",
    "print(type(x))"
   ]
  },
  {
   "cell_type": "code",
   "execution_count": null,
   "metadata": {},
   "outputs": [],
   "source": [
    "# 판다스 groupby 함수 : SQL의 group by 느낌\n",
    "# -> 사고유형과 사고내용으로 group by를 해서, '사고일'이 몇 번씩 있었는지 확인하겠다!\n",
    "groupby = df.groupby(by=['사고유형','사고내용'])['사고일'].count()\n",
    "print(type(groupby))\n",
    "print(groupby) # 사고 유형 : '차대사람 - 기타', '경상사고'의 경우 1110건이 있었다\n",
    "#print(groupby.reset_index()) # reset_index()를 사용하면 예쁘게 바꿀 수 있는 경우가 있음! 해도 예쁘게 안 될수도 있음"
   ]
  },
  {
   "cell_type": "code",
   "execution_count": null,
   "metadata": {},
   "outputs": [],
   "source": [
    "print(groupby.index) # 인덱스만 따로 확인하기\n",
    "print()\n",
    "print(groupby.values) # 값만 따로 확인하기"
   ]
  },
  {
   "cell_type": "code",
   "execution_count": null,
   "metadata": {},
   "outputs": [],
   "source": [
    "g=groupby.reset_index()\n",
    "g"
   ]
  },
  {
   "cell_type": "code",
   "execution_count": null,
   "metadata": {},
   "outputs": [],
   "source": [
    "# 사고일을 그룹 별로 총 count하긴 했는데, 나타내는 정보는 사고일이 아니라 사고건수이니까, '사고건수'로 컬럼명 수정하기\n",
    "g.rename(columns={'사고일':'사고건수'},inplace=True) # inplace=True는 데이터 자체를 완전 바꿔버리겠다는 뜻 \n",
    "g"
   ]
  },
  {
   "cell_type": "code",
   "execution_count": null,
   "metadata": {},
   "outputs": [],
   "source": [
    "# 사고내용이 '사망사고'인 경우만 선택하기\n",
    "t1=g[g['사고내용']=='사망사고']\n",
    "t1.sort_values(by=['사고건수'],ascending=False) # 사고건수가 가장 높은 순서대로 정렬\n",
    "# -> 차대사람 - 횡단중이 81건으로 사망사고 유형 중 가장 많았던 유형이다."
   ]
  },
  {
   "cell_type": "code",
   "execution_count": null,
   "metadata": {},
   "outputs": [],
   "source": [
    "# 사망사고 대신 중상사고\n",
    "t2=g[g['사고내용']=='중상사고']\n",
    "t2.sort_values(by=['사고건수'],ascending=False)\n",
    "# 사망사고와 달리 중상사고는 차-차 측면충돌의 경우가 더 많았다"
   ]
  },
  {
   "cell_type": "code",
   "execution_count": null,
   "metadata": {},
   "outputs": [],
   "source": [
    "# 위 데이터에서 사고건수만 전부 더해보기\n",
    "print(t1['사고건수'].sum()) # 사망사고 총 개수\n",
    "print(t2['사고건수'].sum()) # 중상사고 총 개수"
   ]
  },
  {
   "cell_type": "code",
   "execution_count": null,
   "metadata": {},
   "outputs": [],
   "source": [
    "df.groupby(by='사고내용')['사고일'].count() # df 원본 데이터에서 바로 group by 시켜서 우리가 확인한 정보에 결측치가 없었는지 확인"
   ]
  },
  {
   "cell_type": "code",
   "execution_count": null,
   "metadata": {},
   "outputs": [],
   "source": [
    "df.head()"
   ]
  },
  {
   "cell_type": "code",
   "execution_count": null,
   "metadata": {},
   "outputs": [],
   "source": [
    "filename = \"5.대전광역시_안전지대.geojson\" # csv 파일이 아닌 geojson\n",
    "file = open(filename)\n",
    "df = gpd.read_file(file)\n",
    "df.head(10)"
   ]
  },
  {
   "cell_type": "code",
   "execution_count": null,
   "metadata": {},
   "outputs": [],
   "source": [
    "filename = \"5.대전광역시_안전지대.geojson\"\n",
    "file = open(filename)\n",
    "df = gpd.read_file(file)\n",
    "print(df.loc[0]) # 0번째 행만 출력\n",
    "print(df.loc[1]) # 1번째 행만 출력\n",
    "temp=df.loc[:5] # 0~4번째 행\n",
    "temp"
   ]
  },
  {
   "cell_type": "code",
   "execution_count": null,
   "metadata": {},
   "outputs": [],
   "source": [
    "# gu가 대덕구인 경우만 선택하기\n",
    "df[df.gu=='대덕구']"
   ]
  },
  {
   "cell_type": "code",
   "execution_count": null,
   "metadata": {},
   "outputs": [],
   "source": [
    "df_filtered=df[['dong','jibun']] # dong, jibun 컬럼만 선택\n",
    "df_filtered"
   ]
  },
  {
   "cell_type": "code",
   "execution_count": null,
   "metadata": {},
   "outputs": [],
   "source": [
    "str=df.iloc[:1,5:] # 첫번째 행의 geometry 열부터 선택\n",
    "print(str)"
   ]
  },
  {
   "cell_type": "code",
   "execution_count": null,
   "metadata": {},
   "outputs": [],
   "source": [
    "# geojson 파일에 담긴 geometry 부분은 이렇게 지도에 시각화하는데 쓰임\n",
    "# 확대해보면 사각형들이 있는데, 이게 multipolygon의 정보로 그려짐\n",
    "# 지금 df는 대구 안전지대.geojson 파일 로드한 상태 그대로이므로, 대구 내의 안전지대의 전체 위치를 나타낸다고 보면 됨!\n",
    "\n",
    "converted_json = df.to_json()\n",
    "\n",
    "m = folium.Map(\n",
    "    location=[36.34156,127.39704],\n",
    "    zoom_start=11\n",
    ")\n",
    "\n",
    "folium.GeoJson(\n",
    "    converted_json,\n",
    ").add_to(m)\n",
    "\n",
    "m"
   ]
  },
  {
   "cell_type": "code",
   "execution_count": null,
   "metadata": {},
   "outputs": [],
   "source": [
    "# 이건 교통사고 격자 geojson 데이터인데, 격자는 대구를 사각형으로 쪼갠 단위를 뜻함\n",
    "# 아까 안전 지대의 경우는 대구 내 '안전 지대'가 있는 곳 데이터만 있어서 대구 부분부분만 보였지만\n",
    "# 지금은 대구의 단위를 담고 있으니까 사각형이 모여 대구 자체처럼 보이게 됨\n",
    "\n",
    "filename = \"2.대전광역시_교통사고격자(2017~2019).geojson\"\n",
    "file = open(filename)\n",
    "df = gpd.read_file(file)\n",
    "converted_json = df.to_json()\n",
    "\n",
    "m = folium.Map(\n",
    "    location=[36.34156,127.39704],\n",
    "    zoom_start=11\n",
    ")\n",
    "\n",
    "folium.GeoJson(\n",
    "    converted_json,\n",
    ").add_to(m)\n",
    "\n",
    "m"
   ]
  },
  {
   "cell_type": "code",
   "execution_count": null,
   "metadata": {},
   "outputs": [],
   "source": [
    "filename = \"2.대전광역시_교통사고격자(2017~2019).geojson\"\n",
    "file = open(filename)\n",
    "df = gpd.read_file(file)\n",
    "print(len(df)) # 대구 내의 격자, 즉 작은 사각형들은 총 54912 구간이 있음\n",
    "gdf=df[df.acci_cnt>=10] # 그 사각형들 중 acci_cnt 즉 사고 수가 10건이 넘어가는 사각형만 선택해서 gdf에 저장\n",
    "print(len(gdf)) # 모든 사각형 중 사고 건수가 10건이 넘어가는 곳은 545 곳임\n",
    "gdf.head()"
   ]
  },
  {
   "cell_type": "code",
   "execution_count": null,
   "metadata": {},
   "outputs": [],
   "source": [
    "# 방금 만든 gdf를 시각화\n",
    "converted_json = gdf.to_json()\n",
    "\n",
    "m = folium.Map(\n",
    "    location=[36.34156,127.39704],\n",
    "    zoom_start=11\n",
    ")\n",
    "\n",
    "folium.GeoJson(\n",
    "    converted_json,\n",
    ").add_to(m)\n",
    "\n",
    "m"
   ]
  },
  {
   "cell_type": "code",
   "execution_count": null,
   "metadata": {},
   "outputs": [],
   "source": [
    "df.sort_values(by=['acci_cnt'],ascending=False).head(20) #가장 교통사고가 빈번한 지역 20곳만 정렬"
   ]
  },
  {
   "cell_type": "code",
   "execution_count": null,
   "metadata": {},
   "outputs": [],
   "source": [
    "gdf=df.sort_values(by=['acci_cnt'],ascending=False).head(100) #가장 교통사고가 빈번한 지역 100곳\n",
    "converted_json = gdf.to_json()\n",
    "\n",
    "m = folium.Map(\n",
    "    location=[36.34156,127.39704],\n",
    "    zoom_start=11\n",
    ")\n",
    "\n",
    "folium.GeoJson(\n",
    "    converted_json,\n",
    ").add_to(m)\n",
    "\n",
    "m"
   ]
  },
  {
   "cell_type": "code",
   "execution_count": null,
   "metadata": {},
   "outputs": [],
   "source": [
    "# 교통사고 csv 파일 로드\n",
    "df=pd.read_csv('1.대전광역시_교통사고내역(2017~2019).csv')\n",
    "df.head() # 데이터 살펴보기 (꼭 마지막에 print 없이 해줘야 보기 예쁘게 출력되니 참고!)\n",
    "# print(df.head())"
   ]
  },
  {
   "cell_type": "code",
   "execution_count": null,
   "metadata": {},
   "outputs": [],
   "source": [
    "# 가해운전자 연령대에 따른 사고 발생 수가 다른지 확인\n",
    "p=df.groupby(by='가해운전자 연령대')['사고일'].count().reset_index()\n",
    "p"
   ]
  },
  {
   "cell_type": "code",
   "execution_count": null,
   "metadata": {},
   "outputs": [],
   "source": [
    "sns.barplot(data=p,x=\"가해운전자 연령대\", y=\"사고일\")\n",
    "plt.ylabel('사고수')\n",
    "plt.xticks(rotation = 45)\n",
    "plt.show()"
   ]
  },
  {
   "cell_type": "code",
   "execution_count": null,
   "metadata": {},
   "outputs": [],
   "source": [
    "# 가해운전자 성별에 따른 사고 발생 수가 다른지 확인\n",
    "p=df.groupby(by='가해운전자 성별')['사고일'].count().reset_index()\n",
    "p"
   ]
  },
  {
   "cell_type": "code",
   "execution_count": null,
   "metadata": {},
   "outputs": [],
   "source": [
    "sns.barplot(data=p,x=\"가해운전자 성별\", y=\"사고일\")\n",
    "plt.ylabel('사고수')\n",
    "plt.xticks(rotation = 45)\n",
    "plt.show()"
   ]
  }
 ],
 "metadata": {
  "kernelspec": {
   "display_name": "Python 3",
   "language": "python",
   "name": "python3"
  },
  "language_info": {
   "codemirror_mode": {
    "name": "ipython",
    "version": 3
   },
   "file_extension": ".py",
   "mimetype": "text/x-python",
   "name": "python",
   "nbconvert_exporter": "python",
   "pygments_lexer": "ipython3",
   "version": "3.8.5"
  }
 },
 "nbformat": 4,
 "nbformat_minor": 4
}
