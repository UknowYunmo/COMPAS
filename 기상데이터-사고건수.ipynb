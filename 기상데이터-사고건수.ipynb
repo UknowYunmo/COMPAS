{
 "cells": [
  {
   "cell_type": "code",
   "execution_count": null,
   "metadata": {},
   "outputs": [],
   "source": [
    "df1=pd.read_csv('16.대전광역시_기상데이터(2017~2019).csv')\n",
    "#df1['일강수량(mm)'].isnull() \n",
    "df1['일강수량(mm)'].fillna(0,inplace=True)\n",
    "df1[df1['평균 풍속(m/s)'].isnull()] "
   ]
  },
  {
   "cell_type": "code",
   "execution_count": null,
   "metadata": {},
   "outputs": [],
   "source": [
    "gdf2['일강수량']=df1['일강수량(mm)']\n",
    "gdf2.head(30)"
   ]
  },
  {
   "cell_type": "code",
   "execution_count": null,
   "metadata": {},
   "outputs": [],
   "source": [
    "gdf2.sort_values(by='일강수량',ascending=False).head(50)"
   ]
  },
  {
   "cell_type": "code",
   "execution_count": null,
   "metadata": {},
   "outputs": [],
   "source": [
    "mean1=gdf2[gdf2['일강수량']==0.0]['사고건수'].mean()\n",
    "mean2=gdf2[gdf2['일강수량']>=0.1]['사고건수'].mean()\n",
    "print(mean1)\n",
    "print(mean2)\n",
    "var1=gdf2[gdf2['일강수량']==0.0]['사고건수'].var()\n",
    "var2=gdf2[gdf2['일강수량']>=0.1]['사고건수'].var()\n",
    "print(var1)\n",
    "print(var2)\n",
    "n_x1=len(gdf2[gdf2['일강수량']==0.0]['사고건수'])\n",
    "n_x2=len(gdf2[gdf2['일강수량']>=0.1]['사고건수'])\n",
    "print(n_x1+n_x2)\n",
    "print(365*3)"
   ]
  },
  {
   "cell_type": "code",
   "execution_count": null,
   "metadata": {},
   "outputs": [],
   "source": [
    "z = (mean1 - mean2) / math.sqrt((var1/n_x1)+(var2/n_x2))\n",
    "z = abs(z)\n",
    "p = scipy.stats.norm.sf(z)\n",
    "print(p)"
   ]
  },
  {
   "cell_type": "code",
   "execution_count": null,
   "metadata": {},
   "outputs": [],
   "source": [
    "corr = gdf2[['사고건수','일강수량']].corr(method = 'pearson') # 상관 계수\n",
    "corr"
   ]
  },
  {
   "cell_type": "code",
   "execution_count": null,
   "metadata": {},
   "outputs": [],
   "source": [
    "df1['일 최심적설(cm)'].fillna(0,inplace=True)\n",
    "df1['안개 계속시간(hr)'].fillna(0,inplace=True)\n",
    "df1"
   ]
  },
  {
   "cell_type": "code",
   "execution_count": null,
   "metadata": {},
   "outputs": [],
   "source": [
    "df1['사고건수']=gdf2['사고건수']\n",
    "df1"
   ]
  },
  {
   "cell_type": "code",
   "execution_count": null,
   "metadata": {},
   "outputs": [],
   "source": [
    "reg_df=df1.drop('일시',axis=1)\n",
    "reg_df=reg_df.drop('최대 풍속 풍향(16방위)',axis=1)\n",
    "reg_df"
   ]
  },
  {
   "cell_type": "code",
   "execution_count": null,
   "metadata": {},
   "outputs": [],
   "source": [
    "# 1. 표준화\n",
    "scaler = StandardScaler()\n",
    "scaler.fit(reg_df)   # 표준화를 위해 df 데이터를 살펴본다.\n",
    "df_scale = scaler.transform(reg_df)  # 표준화 작업 수행한 결과를 할당\n",
    "print(df_scale)   # np.array 로 구성"
   ]
  },
  {
   "cell_type": "code",
   "execution_count": null,
   "metadata": {},
   "outputs": [],
   "source": [
    "# 2. 판다스 데이터 프레임으로 구성합니다.\n",
    "df_scale2 = pd.DataFrame(df_scale)\n",
    "df_scale2.head()"
   ]
  },
  {
   "cell_type": "code",
   "execution_count": null,
   "metadata": {},
   "outputs": [],
   "source": [
    "# 4. 컬럼을 구성합니다.\n",
    "df_scale2.columns = ['평균기온','최저기온','최고기온','일강수량','최대풍속','평균풍속','평균상대습도','최심적설','평균지면온도','안개','사고건수']   # 컬럼명을 지정합니다.\n",
    "df_scale2.head()"
   ]
  },
  {
   "cell_type": "code",
   "execution_count": null,
   "metadata": {},
   "outputs": [],
   "source": [
    "# 5. 회귀모델을 생성하고 summary 결과를 봅니다.\n",
    "model = smf.ols(formula = '사고건수 ~ 평균기온 + 최저기온 + 최고기온 + 일강수량 + 최대풍속 + 평균풍속 + 평균상대습도 + 최심적설 + 평균지면온도 + 안개', data = df_scale2)\n",
    "result = model.fit()  # 모델 훈련\n",
    "print( result.summary() )"
   ]
  },
  {
   "cell_type": "code",
   "execution_count": null,
   "metadata": {},
   "outputs": [],
   "source": [
    "model = smf.ols(formula = '사고건수 ~ 최저기온 + 최고기온 + 일강수량 + 최대풍속 + 평균풍속 + 평균상대습도 + 최심적설 + 평균지면온도 + 안개', data = df_scale2)\n",
    "result = model.fit()  # 모델 훈련\n",
    "print( result.summary() )"
   ]
  },
  {
   "cell_type": "code",
   "execution_count": null,
   "metadata": {},
   "outputs": [],
   "source": [
    "corr = df_scale2.corr()\n",
    "corr"
   ]
  },
  {
   "cell_type": "code",
   "execution_count": null,
   "metadata": {},
   "outputs": [],
   "source": [
    "model = smf.ols(formula = '사고건수 ~ 최저기온 + 평균풍속 + 평균상대습도', data = df_scale2)\n",
    "result = model.fit()  # 모델 훈련\n",
    "print( result.summary() )"
   ]
  }
 ],
 "metadata": {
  "kernelspec": {
   "display_name": "Python 3",
   "language": "python",
   "name": "python3"
  },
  "language_info": {
   "codemirror_mode": {
    "name": "ipython",
    "version": 3
   },
   "file_extension": ".py",
   "mimetype": "text/x-python",
   "name": "python",
   "nbconvert_exporter": "python",
   "pygments_lexer": "ipython3",
   "version": "3.8.5"
  }
 },
 "nbformat": 4,
 "nbformat_minor": 4
}
