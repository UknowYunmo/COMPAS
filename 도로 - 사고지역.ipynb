{
 "cells": [
  {
   "cell_type": "code",
   "execution_count": null,
   "metadata": {},
   "outputs": [],
   "source": [
    "# 가져다 쓸 모듈들\n",
    "import pandas as pd\n",
    "import matplotlib.pyplot as plt\n",
    "import seaborn as sns # 예쁜 matplotlib\n",
    "import folium # 지도 시각화\n",
    "import json # geojson 파일용\n",
    "import geopandas as gpd # geojson 파일용\n",
    "import matplotlib.font_manager as fm # 한글 폰트 사용\n",
    "import math # 제곱근\n",
    "import scipy # 상관 계수\n",
    "import statsmodels.api as sm # 다중회귀\n",
    "import statsmodels.formula.api as smf # 다중회귀\n",
    "from sklearn.preprocessing import StandardScaler # 표준화를 위해 필요\n",
    "from sklearn.model_selection import train_test_split # 학습용/테스트 데이터\n",
    "\n",
    "fm.get_fontconfig_fonts()\n",
    "font_location = \"malgun.ttf\"\n",
    "font_name = fm.FontProperties(fname=font_location).get_name()\n",
    "plt.rc('font', family=font_name)\n",
    "\n",
    "# pd.set_option('display.max_row', 30) # 더 많이 보고 싶을때"
   ]
  },
  {
   "cell_type": "code",
   "execution_count": null,
   "metadata": {},
   "outputs": [],
   "source": [
    "# 교통사고 csv 파일 로드\n",
    "df=pd.read_csv('20.대전광역시_평일_일별_시간대별_추정교통량(2018).csv')\n",
    "print(len(df)) # 총 479350건의 교통사고가 있었음\n",
    "print(df['시간적범위'].value_counts())\n",
    "print(df['시간적범위'].value_counts().sum())\n",
    "#df['시간적범위'].value_counts()\n",
    "df.info()"
   ]
  },
  {
   "cell_type": "code",
   "execution_count": null,
   "metadata": {},
   "outputs": [],
   "source": [
    "df['시간적범위'] = df['시간적범위'].astype('str')\n",
    "print(df['시간적범위'].value_counts().sum())\n",
    "df['시간적범위'].value_counts()\n",
    "479350/19174"
   ]
  },
  {
   "cell_type": "code",
   "execution_count": null,
   "metadata": {},
   "outputs": [],
   "source": [
    "df['시간적범위'].value_counts()"
   ]
  },
  {
   "cell_type": "code",
   "execution_count": null,
   "metadata": {},
   "outputs": [],
   "source": [
    "df.head()"
   ]
  },
  {
   "cell_type": "code",
   "execution_count": null,
   "metadata": {},
   "outputs": [],
   "source": [
    "filename = \"17.대전광역시_교통링크(2018).geojson\"\n",
    "file = open(filename)\n",
    "df = gpd.read_file(file)\n",
    "df.head()\n",
    "test=df[df['ROAD_NAME']=='호남고속도로지선']\n",
    "test"
   ]
  },
  {
   "cell_type": "code",
   "execution_count": null,
   "metadata": {},
   "outputs": [],
   "source": [
    "converted_json = df.to_json()\n",
    "\n",
    "m = folium.Map(\n",
    "    location=[36.34156,127.39704],\n",
    "    zoom_start=11\n",
    ")\n",
    "\n",
    "folium.GeoJson(\n",
    "    converted_json,\n",
    ").add_to(m)\n",
    "\n",
    "m"
   ]
  },
  {
   "cell_type": "code",
   "execution_count": null,
   "metadata": {},
   "outputs": [],
   "source": [
    "filename = \"2.대전광역시_교통사고격자(2017~2019).geojson\"\n",
    "file = open(filename)\n",
    "gdf = gpd.read_file(file)\n",
    "print(len(df))\n",
    "gdf2=gdf[gdf.acci_cnt>=10]\n",
    "print(len(gdf2))\n",
    "gdf2.head()"
   ]
  },
  {
   "cell_type": "code",
   "execution_count": null,
   "metadata": {},
   "outputs": [],
   "source": [
    "converted_json = gdf2.to_json()\n",
    "\n",
    "folium.GeoJson(\n",
    "    converted_json,\n",
    ").add_to(m)\n",
    "\n",
    "m"
   ]
  },
  {
   "cell_type": "code",
   "execution_count": null,
   "metadata": {},
   "outputs": [],
   "source": [
    "converted_json = df.to_json()\n",
    "\n",
    "folium.GeoJson(\n",
    "    converted_json,\n",
    ").add_to(m)\n",
    "\n",
    "m"
   ]
  },
  {
   "cell_type": "code",
   "execution_count": null,
   "metadata": {},
   "outputs": [],
   "source": [
    "converted_json = test.to_json()\n",
    "\n",
    "m = folium.Map(\n",
    "    location=[36.34156,127.39704],\n",
    "    zoom_start=11\n",
    ")\n",
    "\n",
    "folium.GeoJson(\n",
    "    converted_json,\n",
    ").add_to(m)\n",
    "\n",
    "m"
   ]
  },
  {
   "cell_type": "code",
   "execution_count": null,
   "metadata": {},
   "outputs": [],
   "source": [
    "for i in test['geometry'].boundary:\n",
    "    print(i)"
   ]
  },
  {
   "cell_type": "code",
   "execution_count": null,
   "metadata": {},
   "outputs": [],
   "source": [
    "o=gpd.overlay(test,gdf2,how='intersection')\n",
    "print(o)"
   ]
  },
  {
   "cell_type": "code",
   "execution_count": null,
   "metadata": {},
   "outputs": [],
   "source": [
    "converted_json = o.to_json()\n",
    "\n",
    "m = folium.Map(\n",
    "    location=[36.34156,127.39704],\n",
    "    zoom_start=11\n",
    ")\n",
    "\n",
    "folium.GeoJson(\n",
    "    converted_json,\n",
    ").add_to(m)\n",
    "\n",
    "m"
   ]
  },
  {
   "cell_type": "code",
   "execution_count": null,
   "metadata": {},
   "outputs": [],
   "source": [
    "converted_json = test.to_json()\n",
    "\n",
    "m = folium.Map(\n",
    "    location=[36.34156,127.39704],\n",
    "    zoom_start=11\n",
    ")\n",
    "\n",
    "folium.GeoJson(\n",
    "    converted_json,\n",
    ").add_to(m)\n",
    "\n",
    "converted_json = gdf2.to_json()\n",
    "\n",
    "folium.GeoJson(\n",
    "    converted_json,\n",
    ").add_to(m)\n",
    "\n",
    "m"
   ]
  }
 ],
 "metadata": {
  "kernelspec": {
   "display_name": "Python 3",
   "language": "python",
   "name": "python3"
  },
  "language_info": {
   "codemirror_mode": {
    "name": "ipython",
    "version": 3
   },
   "file_extension": ".py",
   "mimetype": "text/x-python",
   "name": "python",
   "nbconvert_exporter": "python",
   "pygments_lexer": "ipython3",
   "version": "3.8.5"
  }
 },
 "nbformat": 4,
 "nbformat_minor": 4
}
