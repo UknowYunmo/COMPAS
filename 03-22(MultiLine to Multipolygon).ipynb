{
 "cells": [
  {
   "cell_type": "code",
   "execution_count": null,
   "metadata": {},
   "outputs": [],
   "source": [
    "# 가져다 쓸 모듈들\n",
    "import pandas as pd\n",
    "import matplotlib.pyplot as plt\n",
    "import seaborn as sns # 예쁜 matplotlib\n",
    "import folium # 지도 시각화\n",
    "import json # geojson 파일용\n",
    "import geopandas as gpd # geojson 파일용"
   ]
  },
  {
   "cell_type": "code",
   "execution_count": null,
   "metadata": {},
   "outputs": [],
   "source": [
    "filename = \"17.대전광역시_교통링크(2018).geojson\"\n",
    "file = open(filename,encoding=\"utf8\")\n",
    "df = gpd.read_file(file)\n",
    "df.head()\n",
    "test=df[df['ROAD_NAME']=='호남고속도로지선']\n",
    "test"
   ]
  },
  {
   "cell_type": "code",
   "execution_count": null,
   "metadata": {},
   "outputs": [],
   "source": [
    "test2=test.reset_index()\n",
    "test2"
   ]
  },
  {
   "cell_type": "code",
   "execution_count": null,
   "metadata": {},
   "outputs": [],
   "source": [
    "converted_json = test.to_json()\n",
    "\n",
    "m = folium.Map(\n",
    "    location=[36.34156,127.39704],\n",
    "    zoom_start=11\n",
    ")\n",
    "\n",
    "folium.GeoJson(\n",
    "    converted_json,\n",
    ").add_to(m)\n",
    "\n",
    "m"
   ]
  },
  {
   "cell_type": "code",
   "execution_count": null,
   "metadata": {},
   "outputs": [],
   "source": [
    "converted_json = df.to_json()\n",
    "\n",
    "m = folium.Map(\n",
    "    location=[36.34156,127.39704],\n",
    "    zoom_start=11\n",
    ")\n",
    "\n",
    "folium.GeoJson(\n",
    "    converted_json,\n",
    ").add_to(m)\n",
    "\n",
    "m"
   ]
  },
  {
   "cell_type": "code",
   "execution_count": null,
   "metadata": {},
   "outputs": [],
   "source": [
    "filename = \"30.대전광역시_차량등록현황_격자.geojson\"\n",
    "file = open(filename,encoding=\"utf8\")\n",
    "df90 = gpd.read_file(file)\n",
    "df90"
   ]
  },
  {
   "cell_type": "code",
   "execution_count": null,
   "metadata": {},
   "outputs": [],
   "source": [
    "converted_json = df90.to_json()\n",
    "\n",
    "m = folium.Map(\n",
    "    location=[36.34156,127.39704],\n",
    "    zoom_start=11\n",
    ")\n",
    "\n",
    "folium.GeoJson(\n",
    "    converted_json,\n",
    ").add_to(m)\n",
    "\n",
    "m"
   ]
  },
  {
   "cell_type": "code",
   "execution_count": null,
   "metadata": {},
   "outputs": [],
   "source": [
    "o=gpd.overlay(test2,df90,how='intersection')"
   ]
  },
  {
   "cell_type": "code",
   "execution_count": null,
   "metadata": {},
   "outputs": [],
   "source": [
    "o"
   ]
  },
  {
   "cell_type": "code",
   "execution_count": null,
   "metadata": {},
   "outputs": [],
   "source": [
    "gc=[]\n",
    "for i in range (len(df90['geometry'])):\n",
    "    for j in range (len(o['geometry'])):\n",
    "        if df90['geometry'][i].contains(o['geometry'][j])==True:\n",
    "            print(i)\n",
    "            gc.append(i)"
   ]
  },
  {
   "cell_type": "code",
   "execution_count": null,
   "metadata": {},
   "outputs": [],
   "source": [
    "nn=df90.iloc[gc].reset_index()\n",
    "nn"
   ]
  },
  {
   "cell_type": "code",
   "execution_count": null,
   "metadata": {},
   "outputs": [],
   "source": [
    "converted_json = nn.to_json()\n",
    "\n",
    "m = folium.Map(\n",
    "    location=[36.34156,127.39704],\n",
    "    zoom_start=11\n",
    ")\n",
    "\n",
    "folium.GeoJson(\n",
    "    converted_json,\n",
    ").add_to(m)\n",
    "\n",
    "m"
   ]
  },
  {
   "cell_type": "code",
   "execution_count": null,
   "metadata": {},
   "outputs": [],
   "source": [
    "gc2=[]\n",
    "for i in range (len(df90['geometry'])):\n",
    "    for j in range (len(o['geometry'])):\n",
    "        if df90['geometry'][i].intersects(o['geometry'][j])==True:\n",
    "            print(i)\n",
    "            gc2.append(i)"
   ]
  },
  {
   "cell_type": "code",
   "execution_count": null,
   "metadata": {},
   "outputs": [],
   "source": [
    "gc2"
   ]
  },
  {
   "cell_type": "code",
   "execution_count": null,
   "metadata": {},
   "outputs": [],
   "source": [
    "gc2=set(gc2)\n",
    "gc2=list(gc2)\n",
    "gc2.sort()\n",
    "gc2"
   ]
  },
  {
   "cell_type": "code",
   "execution_count": null,
   "metadata": {},
   "outputs": [],
   "source": [
    "nn2=df90.iloc[gc2].reset_index()\n",
    "nn2"
   ]
  },
  {
   "cell_type": "code",
   "execution_count": null,
   "metadata": {},
   "outputs": [],
   "source": [
    "converted_json = nn2.to_json()\n",
    "\n",
    "m = folium.Map(\n",
    "    location=[36.34156,127.39704],\n",
    "    zoom_start=11\n",
    ")\n",
    "\n",
    "folium.GeoJson(\n",
    "    converted_json,\n",
    ").add_to(m)\n",
    "\n",
    "m"
   ]
  },
  {
   "cell_type": "code",
   "execution_count": null,
   "metadata": {},
   "outputs": [],
   "source": [
    "gc3=[]\n",
    "for i in range (len(df90['geometry'])):\n",
    "    for j in range (len(o['geometry'])):\n",
    "        if df90['geometry'][i].intersects(o['geometry'][j])==True:\n",
    "            print(i)\n",
    "            gc3.append(i)"
   ]
  },
  {
   "cell_type": "code",
   "execution_count": null,
   "metadata": {},
   "outputs": [],
   "source": [
    "gc3=[]\n",
    "for i in range (len(df90['geometry'])):\n",
    "    for j in range (len(test2['geometry'])):\n",
    "        if df90['geometry'][i].intersects(test2['geometry'][j])==True:\n",
    "            print(i)\n",
    "            gc3.append(i)"
   ]
  },
  {
   "cell_type": "code",
   "execution_count": null,
   "metadata": {},
   "outputs": [],
   "source": [
    "gc3=set(gc3)\n",
    "gc3=list(gc3)\n",
    "gc3.sort()\n",
    "gc3"
   ]
  },
  {
   "cell_type": "code",
   "execution_count": null,
   "metadata": {},
   "outputs": [],
   "source": [
    "nn3=df90.iloc[gc3].reset_index()\n",
    "nn3"
   ]
  },
  {
   "cell_type": "code",
   "execution_count": null,
   "metadata": {},
   "outputs": [],
   "source": [
    "converted_json = nn3.to_json()\n",
    "\n",
    "m = folium.Map(\n",
    "    location=[36.34156,127.39704],\n",
    "    zoom_start=11\n",
    ")\n",
    "\n",
    "folium.GeoJson(\n",
    "    converted_json,\n",
    ").add_to(m)\n",
    "\n",
    "m"
   ]
  },
  {
   "cell_type": "code",
   "execution_count": null,
   "metadata": {},
   "outputs": [],
   "source": [
    "test2"
   ]
  },
  {
   "cell_type": "code",
   "execution_count": null,
   "metadata": {},
   "outputs": [],
   "source": [
    "converted_json = o.to_json()\n",
    "\n",
    "m = folium.Map(\n",
    "    location=[36.34156,127.39704],\n",
    "    zoom_start=11\n",
    ")\n",
    "\n",
    "folium.GeoJson(\n",
    "    converted_json,\n",
    ").add_to(m)\n",
    "\n",
    "m"
   ]
  },
  {
   "cell_type": "code",
   "execution_count": null,
   "metadata": {},
   "outputs": [],
   "source": [
    "converted_json = test2.to_json()\n",
    "\n",
    "m = folium.Map(\n",
    "    location=[36.34156,127.39704],\n",
    "    zoom_start=11\n",
    ")\n",
    "\n",
    "folium.GeoJson(\n",
    "    converted_json,\n",
    ").add_to(m)\n",
    "\n",
    "m"
   ]
  },
  {
   "cell_type": "code",
   "execution_count": null,
   "metadata": {},
   "outputs": [],
   "source": [
    "o['geometry'][0]"
   ]
  },
  {
   "cell_type": "code",
   "execution_count": null,
   "metadata": {},
   "outputs": [],
   "source": [
    "test2['geometry'][0]"
   ]
  },
  {
   "cell_type": "code",
   "execution_count": null,
   "metadata": {},
   "outputs": [],
   "source": [
    "for i in range (len(df90['geometry'])):\n",
    "    print(df90['geometry'][i])"
   ]
  },
  {
   "cell_type": "code",
   "execution_count": null,
   "metadata": {},
   "outputs": [],
   "source": [
    "for i in range (len(df90['geometry'])):\n",
    "    for j in range (len(test['geometry'])):\n",
    "        "
   ]
  },
  {
   "cell_type": "code",
   "execution_count": null,
   "metadata": {},
   "outputs": [],
   "source": [
    "len(o)"
   ]
  },
  {
   "cell_type": "code",
   "execution_count": null,
   "metadata": {},
   "outputs": [],
   "source": [
    "len(nn)"
   ]
  },
  {
   "cell_type": "code",
   "execution_count": null,
   "metadata": {},
   "outputs": [],
   "source": [
    "len(nn2)"
   ]
  }
 ],
 "metadata": {
  "kernelspec": {
   "display_name": "Python 3",
   "language": "python",
   "name": "python3"
  },
  "language_info": {
   "codemirror_mode": {
    "name": "ipython",
    "version": 3
   },
   "file_extension": ".py",
   "mimetype": "text/x-python",
   "name": "python",
   "nbconvert_exporter": "python",
   "pygments_lexer": "ipython3",
   "version": "3.8.5"
  }
 },
 "nbformat": 4,
 "nbformat_minor": 4
}
