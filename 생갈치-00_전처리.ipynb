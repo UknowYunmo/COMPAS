{
 "cells": [
  {
   "cell_type": "markdown",
   "id": "crucial-education",
   "metadata": {},
   "source": [
    "# 전처리"
   ]
  },
  {
   "cell_type": "markdown",
   "id": "hourly-porcelain",
   "metadata": {},
   "source": [
    "## 모델링을 위해 제공된 데이터들을 2번(교통사고 격자.geojson) 격자에 맞추기로 결정\n",
    "## Compas Jupyter에서 Server가 계속 끊기는 현상 발생\n",
    "## -> 외부 Jupyer에서 돌리기 위해 비공개 데이터-2번이 아닌 공개 데이터를 활용하기로 결정 "
   ]
  },
  {
   "cell_type": "markdown",
   "id": "saved-moderator",
   "metadata": {},
   "source": [
    "### 2번 격자 = 30번 격자 동일한지 확인"
   ]
  },
  {
   "cell_type": "code",
   "execution_count": 1,
   "id": "victorian-stone",
   "metadata": {},
   "outputs": [
    {
     "name": "stderr",
     "output_type": "stream",
     "text": [
      "/opt/app-root/lib/python3.6/site-packages/geopandas/_compat.py:91: UserWarning: The Shapely GEOS version (3.8.0-CAPI-1.13.1 ) is incompatible with the GEOS version PyGEOS was compiled with (3.9.0-CAPI-1.16.2). Conversions between both will be slow.\n",
      "  shapely_geos_version, geos_capi_version_string\n"
     ]
    }
   ],
   "source": [
    "# 가져다 쓸 모듈들\n",
    "import pandas as pd\n",
    "import matplotlib.pyplot as plt\n",
    "import seaborn as sns # 예쁜 matplotlib\n",
    "import folium # 지도 시각화\n",
    "import json # geojson 파일용\n",
    "import geopandas as gpd # geojson 파일용\n",
    "import matplotlib.font_manager as fm # 한글 폰트 사용"
   ]
  },
  {
   "cell_type": "code",
   "execution_count": 2,
   "id": "terminal-screening",
   "metadata": {},
   "outputs": [
    {
     "data": {
      "text/html": [
       "<div>\n",
       "<style scoped>\n",
       "    .dataframe tbody tr th:only-of-type {\n",
       "        vertical-align: middle;\n",
       "    }\n",
       "\n",
       "    .dataframe tbody tr th {\n",
       "        vertical-align: top;\n",
       "    }\n",
       "\n",
       "    .dataframe thead th {\n",
       "        text-align: right;\n",
       "    }\n",
       "</style>\n",
       "<table border=\"1\" class=\"dataframe\">\n",
       "  <thead>\n",
       "    <tr style=\"text-align: right;\">\n",
       "      <th></th>\n",
       "      <th>gid</th>\n",
       "      <th>acci_cnt</th>\n",
       "      <th>geometry</th>\n",
       "    </tr>\n",
       "  </thead>\n",
       "  <tbody>\n",
       "    <tr>\n",
       "      <th>0</th>\n",
       "      <td>다바866110</td>\n",
       "      <td>0</td>\n",
       "      <td>MULTIPOLYGON (((127.35076 36.29622, 127.35076 ...</td>\n",
       "    </tr>\n",
       "    <tr>\n",
       "      <th>1</th>\n",
       "      <td>다바823157</td>\n",
       "      <td>0</td>\n",
       "      <td>MULTIPOLYGON (((127.30277 36.33853, 127.30276 ...</td>\n",
       "    </tr>\n",
       "    <tr>\n",
       "      <th>2</th>\n",
       "      <td>다바928260</td>\n",
       "      <td>0</td>\n",
       "      <td>MULTIPOLYGON (((127.41967 36.43152, 127.41967 ...</td>\n",
       "    </tr>\n",
       "    <tr>\n",
       "      <th>3</th>\n",
       "      <td>다바931203</td>\n",
       "      <td>2</td>\n",
       "      <td>MULTIPOLYGON (((127.42307 36.38013, 127.42307 ...</td>\n",
       "    </tr>\n",
       "    <tr>\n",
       "      <th>4</th>\n",
       "      <td>다바836109</td>\n",
       "      <td>0</td>\n",
       "      <td>MULTIPOLYGON (((127.31735 36.29527, 127.31735 ...</td>\n",
       "    </tr>\n",
       "    <tr>\n",
       "      <th>...</th>\n",
       "      <td>...</td>\n",
       "      <td>...</td>\n",
       "      <td>...</td>\n",
       "    </tr>\n",
       "    <tr>\n",
       "      <th>54907</th>\n",
       "      <td>다바861065</td>\n",
       "      <td>0</td>\n",
       "      <td>MULTIPOLYGON (((127.34527 36.25565, 127.34527 ...</td>\n",
       "    </tr>\n",
       "    <tr>\n",
       "      <th>54908</th>\n",
       "      <td>다바912036</td>\n",
       "      <td>0</td>\n",
       "      <td>MULTIPOLYGON (((127.40208 36.22956, 127.40207 ...</td>\n",
       "    </tr>\n",
       "    <tr>\n",
       "      <th>54909</th>\n",
       "      <td>다바867189</td>\n",
       "      <td>0</td>\n",
       "      <td>MULTIPOLYGON (((127.35174 36.36745, 127.35174 ...</td>\n",
       "    </tr>\n",
       "    <tr>\n",
       "      <th>54910</th>\n",
       "      <td>다바851062</td>\n",
       "      <td>0</td>\n",
       "      <td>MULTIPOLYGON (((127.33415 36.25293, 127.33415 ...</td>\n",
       "    </tr>\n",
       "    <tr>\n",
       "      <th>54911</th>\n",
       "      <td>다바924104</td>\n",
       "      <td>0</td>\n",
       "      <td>MULTIPOLYGON (((127.41536 36.29088, 127.41536 ...</td>\n",
       "    </tr>\n",
       "  </tbody>\n",
       "</table>\n",
       "<p>54912 rows × 3 columns</p>\n",
       "</div>"
      ],
      "text/plain": [
       "            gid  acci_cnt                                           geometry\n",
       "0      다바866110         0  MULTIPOLYGON (((127.35076 36.29622, 127.35076 ...\n",
       "1      다바823157         0  MULTIPOLYGON (((127.30277 36.33853, 127.30276 ...\n",
       "2      다바928260         0  MULTIPOLYGON (((127.41967 36.43152, 127.41967 ...\n",
       "3      다바931203         2  MULTIPOLYGON (((127.42307 36.38013, 127.42307 ...\n",
       "4      다바836109         0  MULTIPOLYGON (((127.31735 36.29527, 127.31735 ...\n",
       "...         ...       ...                                                ...\n",
       "54907  다바861065         0  MULTIPOLYGON (((127.34527 36.25565, 127.34527 ...\n",
       "54908  다바912036         0  MULTIPOLYGON (((127.40208 36.22956, 127.40207 ...\n",
       "54909  다바867189         0  MULTIPOLYGON (((127.35174 36.36745, 127.35174 ...\n",
       "54910  다바851062         0  MULTIPOLYGON (((127.33415 36.25293, 127.33415 ...\n",
       "54911  다바924104         0  MULTIPOLYGON (((127.41536 36.29088, 127.41536 ...\n",
       "\n",
       "[54912 rows x 3 columns]"
      ]
     },
     "execution_count": 2,
     "metadata": {},
     "output_type": "execute_result"
    }
   ],
   "source": [
    "filename = \"2.대전광역시_교통사고격자(2017~2019).geojson\"\n",
    "file = open(filename)\n",
    "df1 = gpd.read_file(file)\n",
    "df1"
   ]
  },
  {
   "cell_type": "code",
   "execution_count": 3,
   "id": "strategic-senegal",
   "metadata": {},
   "outputs": [
    {
     "data": {
      "text/html": [
       "<div>\n",
       "<style scoped>\n",
       "    .dataframe tbody tr th:only-of-type {\n",
       "        vertical-align: middle;\n",
       "    }\n",
       "\n",
       "    .dataframe tbody tr th {\n",
       "        vertical-align: top;\n",
       "    }\n",
       "\n",
       "    .dataframe thead th {\n",
       "        text-align: right;\n",
       "    }\n",
       "</style>\n",
       "<table border=\"1\" class=\"dataframe\">\n",
       "  <thead>\n",
       "    <tr style=\"text-align: right;\">\n",
       "      <th></th>\n",
       "      <th>gid</th>\n",
       "      <th>cars_cnt</th>\n",
       "      <th>geometry</th>\n",
       "    </tr>\n",
       "  </thead>\n",
       "  <tbody>\n",
       "    <tr>\n",
       "      <th>0</th>\n",
       "      <td>다마846996</td>\n",
       "      <td>0</td>\n",
       "      <td>MULTIPOLYGON (((127.32871 36.19342, 127.32871 ...</td>\n",
       "    </tr>\n",
       "    <tr>\n",
       "      <th>1</th>\n",
       "      <td>다마847995</td>\n",
       "      <td>0</td>\n",
       "      <td>MULTIPOLYGON (((127.32983 36.19252, 127.32982 ...</td>\n",
       "    </tr>\n",
       "    <tr>\n",
       "      <th>2</th>\n",
       "      <td>다마847996</td>\n",
       "      <td>0</td>\n",
       "      <td>MULTIPOLYGON (((127.32982 36.19342, 127.32982 ...</td>\n",
       "    </tr>\n",
       "    <tr>\n",
       "      <th>3</th>\n",
       "      <td>다마847997</td>\n",
       "      <td>0</td>\n",
       "      <td>MULTIPOLYGON (((127.32982 36.19432, 127.32982 ...</td>\n",
       "    </tr>\n",
       "    <tr>\n",
       "      <th>4</th>\n",
       "      <td>다마847998</td>\n",
       "      <td>0</td>\n",
       "      <td>MULTIPOLYGON (((127.32982 36.19522, 127.32982 ...</td>\n",
       "    </tr>\n",
       "    <tr>\n",
       "      <th>...</th>\n",
       "      <td>...</td>\n",
       "      <td>...</td>\n",
       "      <td>...</td>\n",
       "    </tr>\n",
       "    <tr>\n",
       "      <th>54907</th>\n",
       "      <td>라바052223</td>\n",
       "      <td>0</td>\n",
       "      <td>MULTIPOLYGON (((127.55799 36.39818, 127.55799 ...</td>\n",
       "    </tr>\n",
       "    <tr>\n",
       "      <th>54908</th>\n",
       "      <td>라바052224</td>\n",
       "      <td>0</td>\n",
       "      <td>MULTIPOLYGON (((127.55799 36.39908, 127.55799 ...</td>\n",
       "    </tr>\n",
       "    <tr>\n",
       "      <th>54909</th>\n",
       "      <td>라바053222</td>\n",
       "      <td>0</td>\n",
       "      <td>MULTIPOLYGON (((127.55910 36.39727, 127.55910 ...</td>\n",
       "    </tr>\n",
       "    <tr>\n",
       "      <th>54910</th>\n",
       "      <td>라바053223</td>\n",
       "      <td>0</td>\n",
       "      <td>MULTIPOLYGON (((127.55910 36.39818, 127.55910 ...</td>\n",
       "    </tr>\n",
       "    <tr>\n",
       "      <th>54911</th>\n",
       "      <td>라바053224</td>\n",
       "      <td>0</td>\n",
       "      <td>MULTIPOLYGON (((127.55910 36.39908, 127.55911 ...</td>\n",
       "    </tr>\n",
       "  </tbody>\n",
       "</table>\n",
       "<p>54912 rows × 3 columns</p>\n",
       "</div>"
      ],
      "text/plain": [
       "            gid  cars_cnt                                           geometry\n",
       "0      다마846996         0  MULTIPOLYGON (((127.32871 36.19342, 127.32871 ...\n",
       "1      다마847995         0  MULTIPOLYGON (((127.32983 36.19252, 127.32982 ...\n",
       "2      다마847996         0  MULTIPOLYGON (((127.32982 36.19342, 127.32982 ...\n",
       "3      다마847997         0  MULTIPOLYGON (((127.32982 36.19432, 127.32982 ...\n",
       "4      다마847998         0  MULTIPOLYGON (((127.32982 36.19522, 127.32982 ...\n",
       "...         ...       ...                                                ...\n",
       "54907  라바052223         0  MULTIPOLYGON (((127.55799 36.39818, 127.55799 ...\n",
       "54908  라바052224         0  MULTIPOLYGON (((127.55799 36.39908, 127.55799 ...\n",
       "54909  라바053222         0  MULTIPOLYGON (((127.55910 36.39727, 127.55910 ...\n",
       "54910  라바053223         0  MULTIPOLYGON (((127.55910 36.39818, 127.55910 ...\n",
       "54911  라바053224         0  MULTIPOLYGON (((127.55910 36.39908, 127.55911 ...\n",
       "\n",
       "[54912 rows x 3 columns]"
      ]
     },
     "execution_count": 3,
     "metadata": {},
     "output_type": "execute_result"
    }
   ],
   "source": [
    "filename = \"30.대전광역시_차량등록현황_격자.geojson\"\n",
    "file = open(filename)\n",
    "df2 = gpd.read_file(file)\n",
    "df2"
   ]
  },
  {
   "cell_type": "code",
   "execution_count": 4,
   "id": "future-coach",
   "metadata": {},
   "outputs": [
    {
     "data": {
      "text/plain": [
       "1"
      ]
     },
     "execution_count": 4,
     "metadata": {},
     "output_type": "execute_result"
    }
   ],
   "source": [
    "(df1['gid'].reset_index(drop=True)==df2['gid'].reset_index(drop=True)).sum() # 54912행 전부 같은 것을 확인"
   ]
  },
  {
   "cell_type": "markdown",
   "id": "imported-beauty",
   "metadata": {},
   "source": [
    "## point 형식의 geometry 데이터를 30번 격자에 맞게 변환하기 위하여\n",
    "## MultiPolygon (격자) 안에 있는 경우를 Check"
   ]
  },
  {
   "cell_type": "code",
   "execution_count": null,
   "id": "documented-invalid",
   "metadata": {},
   "outputs": [],
   "source": [
    "# 1. 약 55000개로 이루어진 대구 격자 데이터 로드\n",
    "filename = \"30.대전광역시_차량등록현황_격자.geojson\"\n",
    "file = open(filename,encoding='UTF8')\n",
    "df2 = gpd.read_file(file)\n",
    "df2"
   ]
  },
  {
   "cell_type": "code",
   "execution_count": null,
   "id": "young-brunei",
   "metadata": {},
   "outputs": [],
   "source": [
    "# 2. Point 데이터들을 로드, 격자 내에 있는 경우를 Check해서 결과를 json 파일로 저장\n",
    "filename = [\"3.대전광역시_신호등(보행등).geojson\",\"4.대전광역시_신호등(차량등).geojson\",\"7.대전광역시_도로속도표시.geojson\",\"9.대전광역시_교통안전표지.geojson\",\"10.대전광역시_교통CCTV.geojson\"]\n",
    "for i in range(len(filename)):\n",
    "    file = open(filename[i],encoding='UTF8')\n",
    "    gc_plz = gpd.read_file(file)\n",
    "    #print(gc_plz)\n",
    "    print('==========================================================================================')\n",
    "    print('==========================현재 진행 상태 : ' + str(i+1) + '번째 file ==================================')\n",
    "    print(str(len(gc_plz['geometry']))+'번 돌면 끝!')\n",
    "    print('==========================================================================================')\n",
    "    gc=[]\n",
    "    for a in range(len(gc_plz['geometry'])):\n",
    "        for b in range(len(df2['geometry'])):\n",
    "            if gc_plz['geometry'][a].within(df2['geometry'][b])==True:\n",
    "                print(str(a+1)+'번째 index : '+ str(b))\n",
    "                gc.append(b)  \n",
    "                break\n",
    "            if b==len(df2['geometry'])-1 and gc_plz['geometry'][a].within(df2['geometry'][b])==False:\n",
    "                print(str(a+1)+'번째')\n",
    "                print('=================================격자가 없어요===============================')\n",
    "                gc.append(-1)\n",
    "    gc_plz['index']=pd.DataFrame({'index':gc})\n",
    "    gc_plz.to_file(\"3월22일제발마지막-\"+str(i+1)+\".json\", driver=\"GeoJSON\")\n",
    "    print('=============================================끝==========================================')"
   ]
  }
 ],
 "metadata": {
  "kernelspec": {
   "display_name": "Python 3",
   "language": "python",
   "name": "python3"
  },
  "language_info": {
   "codemirror_mode": {
    "name": "ipython",
    "version": 3
   },
   "file_extension": ".py",
   "mimetype": "text/x-python",
   "name": "python",
   "nbconvert_exporter": "python",
   "pygments_lexer": "ipython3",
   "version": "3.6.9"
  }
 },
 "nbformat": 4,
 "nbformat_minor": 5
}
